{
 "cells": [
  {
   "cell_type": "markdown",
   "metadata": {},
   "source": [
    "<br>\n",
    "\n",
    "# Maps"
   ]
  },
  {
   "cell_type": "code",
   "execution_count": null,
   "metadata": {
    "collapsed": false,
    "jupyter": {
     "outputs_hidden": false
    },
    "pycharm": {
     "name": "#%%\n"
    }
   },
   "outputs": [],
   "source": [
    "#!pip3 install open-geodata --upgrade"
   ]
  },
  {
   "cell_type": "code",
   "execution_count": null,
   "metadata": {},
   "outputs": [],
   "source": [
    "import os\n",
    "import json\n",
    "import fiona\n",
    "import folium\n",
    "import pandas as pd\n",
    "import branca as bc\n",
    "import seaborn as sns\n",
    "import geopandas as gpd\n",
    "from datetime import date\n",
    "from folium import plugins"
   ]
  },
  {
   "cell_type": "code",
   "execution_count": null,
   "metadata": {},
   "outputs": [],
   "source": [
    "from open_geodata import geo, lyr"
   ]
  },
  {
   "cell_type": "code",
   "execution_count": null,
   "metadata": {
    "collapsed": false,
    "jupyter": {
     "outputs_hidden": false
    },
    "pycharm": {
     "name": "#%%\n"
    }
   },
   "outputs": [],
   "source": [
    "from paths import *"
   ]
  },
  {
   "cell_type": "code",
   "execution_count": null,
   "metadata": {},
   "outputs": [],
   "source": [
    "# List geodataframes\n",
    "geo.get_dataset_names()"
   ]
  },
  {
   "cell_type": "markdown",
   "metadata": {},
   "source": [
    "<br>\n",
    "\n",
    "# Layers"
   ]
  },
  {
   "cell_type": "code",
   "execution_count": null,
   "metadata": {},
   "outputs": [],
   "source": [
    "gdf_sp = geo.load_dataset('sp_250k_wgs84')\n",
    "\n",
    "# Input\n",
    "gdf = gpd.read_file(os.path.join(output_path_gpkg, 'apa_corumbatai_limite.gpkg'))\n",
    "gdf = gdf.to_crs(epsg=4326)\n",
    "\n",
    "# \n",
    "gdf_sp_i = gpd.overlay(gdf, gdf_sp, how='intersection')\n",
    "gdf_sp_i"
   ]
  },
  {
   "cell_type": "markdown",
   "metadata": {},
   "source": [
    "<br>\n",
    "\n",
    "## Municípios"
   ]
  },
  {
   "cell_type": "code",
   "execution_count": null,
   "metadata": {},
   "outputs": [],
   "source": [
    "def limite_mun():    \n",
    "    # Input\n",
    "    gdf_sp = geo.load_dataset('sp_250k_wgs84')\n",
    "    gdf = gpd.read_file(os.path.join(output_path_gpkg, 'apa_corumbatai_limite.gpkg'))\n",
    "    gdf = gdf.to_crs(epsg=4326)\n",
    "    gdf_sp = gpd.sjoin(\n",
    "        gdf_sp,\n",
    "        gdf,\n",
    "        how='inner',\n",
    "        predicate='intersects',\n",
    "    )\n",
    "\n",
    "    # Layer\n",
    "    return folium.features.GeoJson(\n",
    "        gdf_sp,\n",
    "        name='Municípios',\n",
    "        style_function=lambda x: {\n",
    "            'fillColor': '#FFD700',\n",
    "            'color': '#FFD700',\n",
    "            'weight': 1,\n",
    "            'fillOpacity': 0.0\n",
    "        },\n",
    "        tooltip=folium.features.GeoJsonTooltip(\n",
    "            fields=['municipio_nome', ],\n",
    "            aliases=['Município', ],\n",
    "            labels=True,\n",
    "            sticky=True,\n",
    "            opacity=0.9,\n",
    "            direction='auto',\n",
    "        ),        \n",
    "        highlight_function=lambda x: {\n",
    "            'weight': 3\n",
    "        },\n",
    "        embed=False,\n",
    "        zoom_on_click=False,\n",
    "        control=True,\n",
    "        show=True,\n",
    "    )"
   ]
  },
  {
   "cell_type": "markdown",
   "metadata": {},
   "source": [
    "<br>\n",
    "\n",
    "## Limite"
   ]
  },
  {
   "cell_type": "code",
   "execution_count": null,
   "metadata": {},
   "outputs": [],
   "source": [
    "def limite():\n",
    "    # Input\n",
    "    gdf = gpd.read_file(os.path.join(output_path_gpkg, 'apa_corumbatai_limite.gpkg'))\n",
    "    gdf = gdf.to_crs(epsg=4326)\n",
    "\n",
    "    # Layer\n",
    "    return folium.features.GeoJson(\n",
    "        gdf,\n",
    "        name='Limite APA',\n",
    "        style_function=lambda x: {\n",
    "            'fillColor': '#E1E1E1',\n",
    "            'color': '#E1E1E1',\n",
    "            'weight': 3,\n",
    "            'fillOpacity': 0.0\n",
    "        },\n",
    "        highlight_function=lambda x: {\n",
    "            'weight': 3\n",
    "        },\n",
    "        embed=False,\n",
    "        zoom_on_click=False,\n",
    "        control=True,\n",
    "        show=True,\n",
    "    )"
   ]
  },
  {
   "cell_type": "markdown",
   "metadata": {},
   "source": [
    "<br>\n",
    "\n",
    "## ZPA"
   ]
  },
  {
   "cell_type": "code",
   "execution_count": null,
   "metadata": {},
   "outputs": [],
   "source": [
    "def limite_zpa():\n",
    "    # Input\n",
    "    gdf = gpd.read_file(os.path.join(output_path_gpkg, 'apa_corumbatai_zpa.gpkg'))\n",
    "    gdf = gdf.to_crs(epsg=4326)\n",
    "    display(gdf.head())\n",
    "\n",
    "    # Layer\n",
    "    return folium.features.GeoJson(\n",
    "        gdf,\n",
    "        name='Zona de Proteção Aquífera (ZPA)',\n",
    "        style_function=lambda x: {\n",
    "            'fillColor': '#ff8080',\n",
    "            'color': '#ff8080',\n",
    "            'weight': 1,\n",
    "            'fillOpacity': 0.5\n",
    "        },\n",
    "        highlight_function=lambda x: {\n",
    "            'weight': 3\n",
    "        },\n",
    "        embed=False,\n",
    "        zoom_on_click=False,\n",
    "        control=True,\n",
    "        show=False,\n",
    "    )"
   ]
  },
  {
   "cell_type": "markdown",
   "metadata": {},
   "source": [
    "<br>\n",
    "\n",
    "## ZPH"
   ]
  },
  {
   "cell_type": "code",
   "execution_count": null,
   "metadata": {},
   "outputs": [],
   "source": [
    "def limite_zph():\n",
    "    # Input\n",
    "    gdf = gpd.read_file(os.path.join(output_path_gpkg, 'apa_corumbatai_zph.gpkg'))\n",
    "    gdf = gdf.to_crs(epsg=4326)\n",
    "    display(gdf.head())\n",
    "\n",
    "    # Layer\n",
    "    return folium.features.GeoJson(\n",
    "        gdf,\n",
    "        name='Zona de Proteção Hídrica (ZPH)',\n",
    "        style_function=lambda x: {\n",
    "            'fillColor': '#8080ff',\n",
    "            'color': '#8080ff',\n",
    "            'weight': 1,\n",
    "            'fillOpacity': 0.5\n",
    "        },\n",
    "        highlight_function=lambda x: {\n",
    "            'weight': 3\n",
    "        },\n",
    "        embed=False,\n",
    "        zoom_on_click=False,\n",
    "        control=True,\n",
    "        show=False,\n",
    "    )"
   ]
  },
  {
   "cell_type": "markdown",
   "metadata": {},
   "source": [
    "<br>\n",
    "\n",
    "## ZVS"
   ]
  },
  {
   "cell_type": "code",
   "execution_count": null,
   "metadata": {},
   "outputs": [],
   "source": [
    "def limite_zvs():\n",
    "    # Input\n",
    "    gdf = gpd.read_file(os.path.join(output_path_gpkg, 'apa_corumbatai_zvs.gpkg'))\n",
    "    gdf = gdf.to_crs(epsg=4326)\n",
    "    display(gdf.head())\n",
    "\n",
    "    # Layer\n",
    "    return folium.features.GeoJson(\n",
    "        gdf,\n",
    "        name='Zona de Vida Silvestre (ZVS)',\n",
    "        style_function=lambda x: {\n",
    "            'fillColor': '#009933',\n",
    "            'color': '#009933',\n",
    "            'weight': 1,\n",
    "            'fillOpacity': 0.5\n",
    "        },\n",
    "        highlight_function=lambda x: {\n",
    "            'weight': 3\n",
    "        },\n",
    "        embed=False,\n",
    "        zoom_on_click=False,\n",
    "        control=True,\n",
    "        show=False,\n",
    "    )"
   ]
  },
  {
   "cell_type": "markdown",
   "metadata": {},
   "source": [
    "<br>\n",
    "\n",
    "## Hidrografia - Simples"
   ]
  },
  {
   "cell_type": "code",
   "execution_count": null,
   "metadata": {},
   "outputs": [],
   "source": [
    "def limite_hidro_simples():\n",
    "    # Input\n",
    "    gdf = gpd.read_file(os.path.join(output_path_gpkg, 'apa_corumbatai_hidro_simples.gpkg'))\n",
    "    gdf = gdf.to_crs(epsg=4326)\n",
    "    display(gdf.head())\n",
    "\n",
    "    # Layer\n",
    "    return folium.features.GeoJson(\n",
    "        gdf,\n",
    "        name='Hidrografia - Simples',\n",
    "        style_function=lambda x: {\n",
    "            'fillColor': '#0099ff',\n",
    "            'color': '#0099ff',\n",
    "            'weight': 1,\n",
    "            'fillOpacity': 0.5\n",
    "        },\n",
    "        highlight_function=lambda x: {\n",
    "            'weight': 3\n",
    "        },\n",
    "        embed=False,\n",
    "        zoom_on_click=False,\n",
    "        control=True,\n",
    "        show=False,\n",
    "    )"
   ]
  },
  {
   "cell_type": "markdown",
   "metadata": {},
   "source": [
    "<br>\n",
    "\n",
    "## Hidrografia - Dupla"
   ]
  },
  {
   "cell_type": "code",
   "execution_count": null,
   "metadata": {},
   "outputs": [],
   "source": [
    "def limite_hidro_dupla():\n",
    "    # Input\n",
    "    gdf = gpd.read_file(os.path.join(output_path_gpkg, 'apa_corumbatai_hidro_dupla.gpkg'))\n",
    "    gdf = gdf.to_crs(epsg=4326)\n",
    "    display(gdf.head())\n",
    "\n",
    "    # Layer\n",
    "    return folium.features.GeoJson(\n",
    "        gdf,\n",
    "        name='Hidrografia - Dupla',\n",
    "        style_function=lambda x: {\n",
    "            'fillColor': '#0099ff',\n",
    "            'color': '#0099ff',\n",
    "            'weight': 1,\n",
    "            'fillOpacity': 0.5\n",
    "        },\n",
    "        highlight_function=lambda x: {\n",
    "            'weight': 3\n",
    "        },\n",
    "        embed=False,\n",
    "        zoom_on_click=False,\n",
    "        control=True,\n",
    "        show=False,\n",
    "    )"
   ]
  },
  {
   "cell_type": "markdown",
   "metadata": {},
   "source": [
    "<br>\n",
    "\n",
    "## Hidrografia - Represas"
   ]
  },
  {
   "cell_type": "code",
   "execution_count": null,
   "metadata": {},
   "outputs": [],
   "source": [
    "def limite_hidro_lakes():\n",
    "    # Input\n",
    "    gdf = gpd.read_file(os.path.join(output_path_gpkg, 'apa_corumbatai_hidro_represa.gpkg'))\n",
    "    gdf = gdf.to_crs(epsg=4326)\n",
    "    display(gdf.head())\n",
    "\n",
    "    # Layer\n",
    "    return folium.features.GeoJson(\n",
    "        gdf,\n",
    "        name='Hidrografia - Represas',\n",
    "        style_function=lambda x: {\n",
    "            'fillColor': '#0099ff',\n",
    "            'color': '#0099ff',\n",
    "            'weight': 1,\n",
    "            'fillOpacity': 0.5\n",
    "        },\n",
    "        highlight_function=lambda x: {\n",
    "            'weight': 3\n",
    "        },\n",
    "        embed=False,\n",
    "        zoom_on_click=False,\n",
    "        control=True,\n",
    "        show=False,\n",
    "    )"
   ]
  },
  {
   "cell_type": "markdown",
   "metadata": {},
   "source": [
    "<br>\n",
    "\n",
    "## Hidrografia - Nascente"
   ]
  },
  {
   "cell_type": "code",
   "execution_count": null,
   "metadata": {},
   "outputs": [],
   "source": [
    "def limite_hidro_nascente():\n",
    "    # Input\n",
    "    gdf = gpd.read_file(os.path.join(output_path_gpkg, 'apa_corumbatai_hidro_nascente.gpkg'))\n",
    "    gdf = gdf.to_crs(epsg=4326)\n",
    "    display(gdf.head())\n",
    "\n",
    "    # Layer\n",
    "    return folium.features.GeoJson(\n",
    "        gdf,\n",
    "        name='Hidrografia - Nascente',\n",
    "        style_function=lambda x: {\n",
    "            'fillColor': '#0099ff',\n",
    "            'color': '#0099ff',\n",
    "            'weight': 1,\n",
    "            'fillOpacity': 0.5\n",
    "        },\n",
    "        highlight_function=lambda x: {\n",
    "            'weight': 3\n",
    "        },\n",
    "        embed=False,\n",
    "        zoom_on_click=False,\n",
    "        control=True,\n",
    "        show=False,\n",
    "    )"
   ]
  },
  {
   "cell_type": "markdown",
   "metadata": {},
   "source": [
    "<br>\n",
    "\n",
    "# Mapa"
   ]
  },
  {
   "cell_type": "code",
   "execution_count": null,
   "metadata": {},
   "outputs": [],
   "source": [
    "def get_map(input_shp):\n",
    "    # Input\n",
    "    gdf = gpd.read_file(input_shp)\n",
    "    gdf = gdf.to_crs(epsg=4326)\n",
    "    sw = gdf.bounds[['miny', 'minx']].min().values.tolist()\n",
    "    ne = gdf.bounds[['maxy', 'maxx']].max().values.tolist()\n",
    "    bounds = [sw, ne]\n",
    "    \n",
    "    # Zoom\n",
    "    min_zoom = 10\n",
    "    max_zoom = 18\n",
    "\n",
    "    # Create Map\n",
    "    m = folium.Map(\n",
    "        #location=list_centroid,\n",
    "        #zoom_start=10,\n",
    "        min_zoom=min_zoom,\n",
    "        max_zoom=max_zoom,\n",
    "        max_bounds=True,\n",
    "        #zoom_delta=0.1,\n",
    "        min_lat=bounds[0][0]*(101/100),\n",
    "        min_lon=bounds[0][1]*(101/100),\n",
    "        max_lat=bounds[1][0]*(99/100),\n",
    "        max_lon=bounds[1][1]*(99/100),\n",
    "        tiles=None,\n",
    "    )\n",
    "    \n",
    "    # Add Base Layers\n",
    "    m.add_child(lyr.base.google_hybrid(min_zoom, max_zoom))\n",
    "    m.add_child(lyr.base.google_terrain(min_zoom, max_zoom))\n",
    "    m.add_child(lyr.base.google_streets(min_zoom, max_zoom))\n",
    "    m.add_child(lyr.base.google_satellite(min_zoom, max_zoom))\n",
    "    \n",
    "    # Plano Diretor\n",
    "    m.add_child(limite_zpa())\n",
    "    m.add_child(limite_zph())\n",
    "    m.add_child(limite_zvs())\n",
    "    m.add_child(limite())    \n",
    "    m.add_child(limite_mun())        \n",
    "    \n",
    "    hidro_group = folium.FeatureGroup('Hidrografia', show=False)\n",
    "    hidro_group.add_child(limite_hidro_simples())\n",
    "    hidro_group.add_child(limite_hidro_dupla())\n",
    "    hidro_group.add_child(limite_hidro_lakes())\n",
    "    #hidro_group.add_child(limite_hidro_nascente())\n",
    "    #hidro_group.add_to(m)\n",
    "    \n",
    "    # Plugins\n",
    "    m.fit_bounds(bounds)\n",
    "    plugins.Fullscreen(\n",
    "        position='topleft',\n",
    "        title='Clique para Maximizar',\n",
    "        title_cancel='Mininizar',\n",
    "    ).add_to(m)\n",
    "    folium.LayerControl(\n",
    "        position='topright',\n",
    "        collapsed=False\n",
    "    ).add_to(m)\n",
    "    return m"
   ]
  },
  {
   "cell_type": "code",
   "execution_count": null,
   "metadata": {},
   "outputs": [],
   "source": [
    "m = get_map(os.path.join(output_path_gpkg, 'apa_corumbatai_limite.gpkg'))\n",
    "\n",
    "# Results\n",
    "m.save(os.path.join(output_path_maps, 'map_apa.html'))\n",
    "m"
   ]
  },
  {
   "cell_type": "code",
   "execution_count": null,
   "metadata": {},
   "outputs": [],
   "source": []
  }
 ],
 "metadata": {
  "kernelspec": {
   "display_name": "Python 3 (ipykernel)",
   "language": "python",
   "name": "python3"
  },
  "language_info": {
   "codemirror_mode": {
    "name": "ipython",
    "version": 3
   },
   "file_extension": ".py",
   "mimetype": "text/x-python",
   "name": "python",
   "nbconvert_exporter": "python",
   "pygments_lexer": "ipython3",
   "version": "3.9.12"
  },
  "toc-autonumbering": true
 },
 "nbformat": 4,
 "nbformat_minor": 4
}
