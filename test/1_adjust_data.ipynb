{
 "cells": [
  {
   "cell_type": "markdown",
   "id": "13f26575-e575-4fa0-a2c2-a425be195709",
   "metadata": {},
   "source": [
    "<br>\n",
    "\n",
    "# Introdução"
   ]
  },
  {
   "cell_type": "code",
   "execution_count": 1,
   "id": "823a6306-14b4-4e2e-8f6b-74d9b654f14a",
   "metadata": {},
   "outputs": [],
   "source": [
    "import os\n",
    "import pandas as pd\n",
    "import geopandas as gpd\n",
    "import os\n",
    "import py7zr\n",
    "import geopandas as gpd"
   ]
  },
  {
   "cell_type": "code",
   "execution_count": 2,
   "id": "af4dd3e3-1f15-4444-a60d-8a0d5e225979",
   "metadata": {},
   "outputs": [],
   "source": [
    "gpd.io.file.fiona.drvsupport.supported_drivers['KML'] = 'rw'"
   ]
  },
  {
   "cell_type": "code",
   "execution_count": 3,
   "id": "ace490f5-7c71-4066-8340-e082459444d1",
   "metadata": {},
   "outputs": [],
   "source": [
    "from paths import *"
   ]
  },
  {
   "cell_type": "code",
   "execution_count": 4,
   "id": "a929bfbb-ce97-4094-a6cc-06436b7acb99",
   "metadata": {},
   "outputs": [],
   "source": [
    "from zipfile import ZipFile"
   ]
  },
  {
   "cell_type": "code",
   "execution_count": 5,
   "id": "0ceca93c-f909-43ca-854f-0ee4173ae2b0",
   "metadata": {},
   "outputs": [
    {
     "data": {
      "text/plain": [
       "'Base Cartográfica Vetorial-20220405T193017Z-001.zip'"
      ]
     },
     "execution_count": 5,
     "metadata": {},
     "output_type": "execute_result"
    }
   ],
   "source": [
    "folder_prefixo = 'Base Cartográfica Vetorial'\n",
    "file = [x for x in os.listdir(bruto_path) if x.startswith(folder_prefixo)][0]\n",
    "file"
   ]
  },
  {
   "cell_type": "code",
   "execution_count": 6,
   "id": "6cdc87b6-8358-4498-8a9e-381a42e9a2ee",
   "metadata": {},
   "outputs": [],
   "source": [
    "zipfile_path = os.path.join(bruto_path, file)"
   ]
  },
  {
   "cell_type": "code",
   "execution_count": 7,
   "id": "faea14cf-be1b-4444-a41f-990a2f6d19b1",
   "metadata": {},
   "outputs": [],
   "source": [
    "with ZipFile(zipfile_path, 'r') as zip_obj:\n",
    "    # Extract all the contents of zip file in different directory\n",
    "    zip_obj.extractall(input_path)"
   ]
  },
  {
   "cell_type": "code",
   "execution_count": 8,
   "id": "81201639-96a4-4957-87be-dc44ea4057a9",
   "metadata": {},
   "outputs": [
    {
     "data": {
      "text/plain": [
       "'../data/input/Base Cartográfica Vetorial'"
      ]
     },
     "execution_count": 8,
     "metadata": {},
     "output_type": "execute_result"
    }
   ],
   "source": [
    "aaa = os.path.join(input_path, folder_prefixo)\n",
    "aaa"
   ]
  },
  {
   "cell_type": "code",
   "execution_count": 9,
   "id": "b0fe5d9e-7056-4499-98de-1d1dd8bd8c5c",
   "metadata": {},
   "outputs": [
    {
     "name": "stdout",
     "output_type": "stream",
     "text": [
      "../data/input/Base Cartográfica Vetorial/Geologia (CPRM, 2006)\n",
      ">  apacp-geologico_shp.zip\n",
      "../data/input/Base Cartográfica Vetorial/Hidrografia e APP Hídrica (FBDS, 2016)\n",
      ">  app-hidrica-apa.kml\n",
      ">  app-hidrica.kml\n",
      ">  app-hidrica_shp.zip\n",
      ">  hidrografia-dupla.kml\n",
      ">  hidrografia-simples.kml\n",
      ">  nascente.kml\n",
      ">  Projeto de Apoio à Implementação do CAR.doc\n",
      ">  represa.kml\n",
      "../data/input/Base Cartográfica Vetorial/Inventário Florestal 2020 (Instituto Florestal, 2020)\n",
      ">  apacp-mun_if20.kml\n",
      ">  apacp-mun_if20_s2000.rar\n",
      ">  apacp_if20.kml\n",
      ">  apacp_if20_s2000.rar\n",
      ">  apac_if20.kml\n",
      ">  apac_if20_s2000.rar\n",
      ">  apap_if20.kml\n",
      ">  apap_if20_s2000.rar\n",
      "../data/input/Base Cartográfica Vetorial/Limites/Bases vetoriais limites APA Corumbataí/Shapefile - Sirgas 2000\n",
      ">  apac_Pol_sirgas2000.prj\n",
      ">  apac_Pol_sirgas2000.qpj\n",
      ">  apac_Pol_sirgas2000.shp\n",
      ">  apac_Pol_sirgas2000.shx\n",
      "../data/input/Base Cartográfica Vetorial/Limites/Bases vetoriais limites APA Corumbataí\n",
      ">  apac_Pol_sirgas2000.kml\n",
      "Shapefile - Sirgas 2000\n",
      "../data/input/Base Cartográfica Vetorial/Limites/Bases vetoriais limites APA Piracicaba/Shapefile - Sirgas 2000\n",
      ">  apap_pol_sirgas2000.cpg\n",
      ">  apap_pol_sirgas2000.dbf\n",
      ">  apap_pol_sirgas2000.prj\n",
      ">  apap_pol_sirgas2000.qpj\n",
      ">  apap_pol_sirgas2000.shp\n",
      ">  apap_pol_sirgas2000.shx\n",
      "../data/input/Base Cartográfica Vetorial/Limites/Bases vetoriais limites APA Piracicaba\n",
      ">  apap_pol_sirgas2000.kml\n",
      "Shapefile - Sirgas 2000\n",
      "../data/input/Base Cartográfica Vetorial/Limites\n",
      "Bases vetoriais limites APA Corumbataí\n",
      "Bases vetoriais limites APA Piracicaba\n",
      "../data/input/Base Cartográfica Vetorial/Pedologia (Instituto Florestal, 2017)\n",
      ">  apacp_pedologico_rossi2017_s2000.cpg\n",
      ">  apacp_pedologico_rossi2017_s2000.dbf\n",
      ">  apacp_pedologico_rossi2017_s2000.qmd\n",
      ">  apacp_pedologico_rossi2017_s2000.shp\n",
      ">  apacp_pedologico_rossi2017_s2000.shx\n",
      ">  apacp_pedologico_rossi2017_s2000.zip\n",
      "../data/input/Base Cartográfica Vetorial/Prioridade para Biodiversidade (MMA, 2019)\n",
      "../data/input/Base Cartográfica Vetorial/Rodovias (DER, 2005)\n",
      "../data/input/Base Cartográfica Vetorial/Uso do Solo 2019 (Mapbiomas2020, coleção 5)\n",
      ">  apacp_munic+buf2km_uso-solo-mapbiomas2019-colecao5_wgs84.zip\n",
      ">  apacp_regional_uso-solo_mapbiomas2019-colecao5_wgs84.zip\n",
      ">  Classes-description_pt-BR.pdf\n",
      ">  Códigos_da_legenda_Coleção_5.pdf\n",
      "../data/input/Base Cartográfica Vetorial/Vegetação natural 2019 (Mapbiomas2020, coleção 5)\n",
      ">  apacp_munic+buf2km_veg-nat_mapbiomas2019-colecao5_shapefile_wgs84.zip\n",
      ">  apacp_regional_veg-nat_mapbiomas2019-colecao5_shapefile_wgs84.zip\n",
      ">  Classes-description_pt-BR.pdf\n",
      ">  Códigos_da_legenda_Coleção_5.pdf\n",
      "../data/input/Base Cartográfica Vetorial/Viário (IBGE)\n",
      "../data/input/Base Cartográfica Vetorial/Zona de Proteção Aquífera (ZPA)\n",
      ">  apacp_zpa_sirgas2000.cpg\n",
      ">  apacp_zpa_sirgas2000.dbf\n",
      ">  apacp_zpa_sirgas2000.prj\n",
      ">  apacp_zpa_sirgas2000.shp\n",
      ">  apacp_zpa_sirgas2000.shx\n",
      ">  apac_zpa-ibge_sirgas2000.kml\n",
      "../data/input/Base Cartográfica Vetorial/Zona de Proteção Hídrica (ZPH)\n",
      ">  apac_zph-ibge_sirgas2000.cpg\n",
      ">  apac_zph-ibge_sirgas2000.dbf\n",
      ">  apac_zph-ibge_sirgas2000.kml\n",
      ">  apac_zph-ibge_sirgas2000.prj\n",
      ">  apac_zph-ibge_sirgas2000.shp\n",
      ">  apac_zph-ibge_sirgas2000.shx\n",
      "../data/input/Base Cartográfica Vetorial/Zona de Vida Silvestre (ZVS)\n",
      ">  apacp_inventario_if_2010_sirgas2000.cpg\n",
      ">  apacp_inventario_if_2010_sirgas2000.dbf\n",
      ">  apacp_inventario_if_2010_sirgas2000.kml\n",
      ">  apacp_inventario_if_2010_sirgas2000.prj\n",
      ">  apacp_inventario_if_2010_sirgas2000.qpj\n",
      ">  apacp_inventario_if_2010_sirgas2000.shp\n",
      ">  apacp_inventario_if_2010_sirgas2000.shx\n",
      "../data/input/Base Cartográfica Vetorial\n",
      "Geologia (CPRM, 2006)\n",
      "Hidrografia e APP Hídrica (FBDS, 2016)\n",
      "Inventário Florestal 2020 (Instituto Florestal, 2020)\n",
      "Limites\n",
      "Pedologia (Instituto Florestal, 2017)\n",
      "Prioridade para Biodiversidade (MMA, 2019)\n",
      "Rodovias (DER, 2005)\n",
      "Uso do Solo 2019 (Mapbiomas2020, coleção 5)\n",
      "Vegetação natural 2019 (Mapbiomas2020, coleção 5)\n",
      "Viário (IBGE)\n",
      "Zona de Proteção Aquífera (ZPA)\n",
      "Zona de Proteção Hídrica (ZPH)\n",
      "Zona de Vida Silvestre (ZVS)\n"
     ]
    }
   ],
   "source": [
    "for root, dirs, files in os.walk(aaa, topdown = False):\n",
    "    print(root)\n",
    "    for name in files:\n",
    "        print('> ', format(os.path.join(name)))\n",
    "    for name in dirs:\n",
    "        print(os.path.join(name))"
   ]
  },
  {
   "cell_type": "markdown",
   "id": "62f0f979-8470-429f-863d-ee306c271ffc",
   "metadata": {},
   "source": [
    "<br>\n",
    "\n",
    "# APA Corumbataí"
   ]
  },
  {
   "cell_type": "code",
   "execution_count": 10,
   "id": "fe0fcd67-a2a9-450d-a0d3-79c5f9527544",
   "metadata": {},
   "outputs": [],
   "source": [
    "def drop_columns(gdf):\n",
    "    list_cols = gdf.columns\n",
    "    for col in list_cols:\n",
    "        if col != 'geometry':\n",
    "            content_col = list(set(gdf[col]))\n",
    "            if len(content_col)==1:\n",
    "                print(content_col)\n",
    "                gdf.drop([col], axis=1, inplace=True)"
   ]
  },
  {
   "cell_type": "markdown",
   "id": "9d7a7355-3ed0-4d7a-88ab-10c0a029ab76",
   "metadata": {},
   "source": [
    "<br>\n",
    "\n",
    "## Limites"
   ]
  },
  {
   "cell_type": "code",
   "execution_count": 11,
   "id": "31d374b9-d49a-4614-b62b-8ce7d6714af6",
   "metadata": {},
   "outputs": [
    {
     "name": "stdout",
     "output_type": "stream",
     "text": [
      "epsg:4674\n"
     ]
    },
    {
     "data": {
      "text/html": [
       "<div>\n",
       "<style scoped>\n",
       "    .dataframe tbody tr th:only-of-type {\n",
       "        vertical-align: middle;\n",
       "    }\n",
       "\n",
       "    .dataframe tbody tr th {\n",
       "        vertical-align: top;\n",
       "    }\n",
       "\n",
       "    .dataframe thead th {\n",
       "        text-align: right;\n",
       "    }\n",
       "</style>\n",
       "<table border=\"1\" class=\"dataframe\">\n",
       "  <thead>\n",
       "    <tr style=\"text-align: right;\">\n",
       "      <th></th>\n",
       "      <th>geometry</th>\n",
       "    </tr>\n",
       "  </thead>\n",
       "  <tbody>\n",
       "    <tr>\n",
       "      <th>0</th>\n",
       "      <td>MULTIPOLYGON (((-48.42444 -22.58769, -48.42449...</td>\n",
       "    </tr>\n",
       "  </tbody>\n",
       "</table>\n",
       "</div>"
      ],
      "text/plain": [
       "                                            geometry\n",
       "0  MULTIPOLYGON (((-48.42444 -22.58769, -48.42449..."
      ]
     },
     "metadata": {},
     "output_type": "display_data"
    },
    {
     "name": "stderr",
     "output_type": "stream",
     "text": [
      "/home/michel/Documents/conda/envs/pablocarreira-py39/lib/python3.9/site-packages/geopandas/io/file.py:362: FutureWarning: pandas.Int64Index is deprecated and will be removed from pandas in a future version. Use pandas.Index with the appropriate dtype instead.\n",
      "  pd.Int64Index,\n"
     ]
    }
   ],
   "source": [
    "gdf = gpd.read_file(\n",
    "    os.path.join(\n",
    "        '../data/input/Base Cartográfica Vetorial/Limites',\n",
    "        'Bases vetoriais limites APA Corumbataí',\n",
    "        'Shapefile - Sirgas 2000',\n",
    "    )\n",
    ")\n",
    "print(gdf.crs)\n",
    "gdf = gdf.to_crs(epsg=4326)\n",
    "\n",
    "#gdf.plot()\n",
    "drop_columns(gdf)\n",
    "display(gdf.head())\n",
    "\n",
    "gdf.to_file(\n",
    "    os.path.join(output_path_gpkg, 'apa_corumbatai_limite.gpkg'),\n",
    "    layer='Limite',\n",
    "    driver='GPKG'\n",
    ")"
   ]
  },
  {
   "cell_type": "markdown",
   "id": "5230ffbb-93b7-4f84-8eca-6b96a265f520",
   "metadata": {},
   "source": [
    "## Zona de Proteção Aquífera (ZPA)"
   ]
  },
  {
   "cell_type": "code",
   "execution_count": 12,
   "id": "9b2e067a-8be2-43f7-b2dc-a44d345baf87",
   "metadata": {},
   "outputs": [
    {
     "name": "stdout",
     "output_type": "stream",
     "text": [
      "epsg:4674\n",
      "[None]\n",
      "[None]\n",
      "[None]\n",
      "[None]\n",
      "[None]\n",
      "[None]\n",
      "[0]\n",
      "[None]\n",
      "[None]\n",
      "[None]\n",
      "[None]\n",
      "[None]\n",
      "[None]\n"
     ]
    },
    {
     "data": {
      "text/html": [
       "<div>\n",
       "<style scoped>\n",
       "    .dataframe tbody tr th:only-of-type {\n",
       "        vertical-align: middle;\n",
       "    }\n",
       "\n",
       "    .dataframe tbody tr th {\n",
       "        vertical-align: top;\n",
       "    }\n",
       "\n",
       "    .dataframe thead th {\n",
       "        text-align: right;\n",
       "    }\n",
       "</style>\n",
       "<table border=\"1\" class=\"dataframe\">\n",
       "  <thead>\n",
       "    <tr style=\"text-align: right;\">\n",
       "      <th></th>\n",
       "      <th>area_ha</th>\n",
       "      <th>geometry</th>\n",
       "    </tr>\n",
       "  </thead>\n",
       "  <tbody>\n",
       "    <tr>\n",
       "      <th>0</th>\n",
       "      <td>118.947</td>\n",
       "      <td>POLYGON ((-48.42525 -22.58684, -48.42527 -22.5...</td>\n",
       "    </tr>\n",
       "    <tr>\n",
       "      <th>1</th>\n",
       "      <td>128.093</td>\n",
       "      <td>POLYGON ((-47.51033 -22.26735, -47.51069 -22.2...</td>\n",
       "    </tr>\n",
       "    <tr>\n",
       "      <th>2</th>\n",
       "      <td>221771.026</td>\n",
       "      <td>MULTIPOLYGON (((-47.73639 -22.45076, -47.74682...</td>\n",
       "    </tr>\n",
       "  </tbody>\n",
       "</table>\n",
       "</div>"
      ],
      "text/plain": [
       "      area_ha                                           geometry\n",
       "0     118.947  POLYGON ((-48.42525 -22.58684, -48.42527 -22.5...\n",
       "1     128.093  POLYGON ((-47.51033 -22.26735, -47.51069 -22.2...\n",
       "2  221771.026  MULTIPOLYGON (((-47.73639 -22.45076, -47.74682..."
      ]
     },
     "metadata": {},
     "output_type": "display_data"
    },
    {
     "name": "stderr",
     "output_type": "stream",
     "text": [
      "/home/michel/Documents/conda/envs/pablocarreira-py39/lib/python3.9/site-packages/geopandas/io/file.py:362: FutureWarning: pandas.Int64Index is deprecated and will be removed from pandas in a future version. Use pandas.Index with the appropriate dtype instead.\n",
      "  pd.Int64Index,\n"
     ]
    }
   ],
   "source": [
    "gdf = gpd.read_file(\n",
    "    os.path.join(\n",
    "        '../data/input/Base Cartográfica Vetorial/Zona de Proteção Aquífera (ZPA)',\n",
    "        #'Bases vetoriais limites APA Corumbataí',\n",
    "        #'Shapefile - Sirgas 2000',\n",
    "    )\n",
    ")\n",
    "print(gdf.crs)\n",
    "gdf = gdf.to_crs(epsg=4326)\n",
    "\n",
    "#gdf.plot()\n",
    "drop_columns(gdf)\n",
    "display(gdf.head())\n",
    "\n",
    "gdf.to_file(\n",
    "    os.path.join(output_path_gpkg, 'apa_corumbatai_zpa.gpkg'),\n",
    "    layer='Zona de Proteção Aquífera (ZPA)',\n",
    "    driver='GPKG'\n",
    ")"
   ]
  },
  {
   "cell_type": "markdown",
   "id": "a492f8a7-ab02-4004-9401-f46a7484f2d0",
   "metadata": {},
   "source": [
    "## Zona de Proteção Hídrica (ZPH)"
   ]
  },
  {
   "cell_type": "code",
   "execution_count": 13,
   "id": "9e1aa61f-8e23-4608-9d92-d19ea2f540ab",
   "metadata": {},
   "outputs": [
    {
     "name": "stdout",
     "output_type": "stream",
     "text": [
      "epsg:4674\n",
      "[None]\n",
      "[111756.12824]\n"
     ]
    },
    {
     "data": {
      "text/html": [
       "<div>\n",
       "<style scoped>\n",
       "    .dataframe tbody tr th:only-of-type {\n",
       "        vertical-align: middle;\n",
       "    }\n",
       "\n",
       "    .dataframe tbody tr th {\n",
       "        vertical-align: top;\n",
       "    }\n",
       "\n",
       "    .dataframe thead th {\n",
       "        text-align: right;\n",
       "    }\n",
       "</style>\n",
       "<table border=\"1\" class=\"dataframe\">\n",
       "  <thead>\n",
       "    <tr style=\"text-align: right;\">\n",
       "      <th></th>\n",
       "      <th>geometry</th>\n",
       "    </tr>\n",
       "  </thead>\n",
       "  <tbody>\n",
       "    <tr>\n",
       "      <th>0</th>\n",
       "      <td>MULTIPOLYGON (((-47.79757 -22.25599, -47.79819...</td>\n",
       "    </tr>\n",
       "  </tbody>\n",
       "</table>\n",
       "</div>"
      ],
      "text/plain": [
       "                                            geometry\n",
       "0  MULTIPOLYGON (((-47.79757 -22.25599, -47.79819..."
      ]
     },
     "metadata": {},
     "output_type": "display_data"
    },
    {
     "name": "stderr",
     "output_type": "stream",
     "text": [
      "/home/michel/Documents/conda/envs/pablocarreira-py39/lib/python3.9/site-packages/geopandas/io/file.py:362: FutureWarning: pandas.Int64Index is deprecated and will be removed from pandas in a future version. Use pandas.Index with the appropriate dtype instead.\n",
      "  pd.Int64Index,\n"
     ]
    }
   ],
   "source": [
    "gdf = gpd.read_file(\n",
    "    os.path.join(\n",
    "        '../data/input/Base Cartográfica Vetorial/Zona de Proteção Hídrica (ZPH)',\n",
    "        #'Bases vetoriais limites APA Corumbataí',\n",
    "        #'Shapefile - Sirgas 2000',\n",
    "    )\n",
    ")\n",
    "print(gdf.crs)\n",
    "gdf = gdf.to_crs(epsg=4326)\n",
    "\n",
    "#gdf.plot()\n",
    "drop_columns(gdf)\n",
    "display(gdf.head())\n",
    "\n",
    "gdf.to_file(\n",
    "    os.path.join(output_path_gpkg, 'apa_corumbatai_zph.gpkg'),\n",
    "    layer='Zona de Proteção Hídrica (ZPH)',\n",
    "    driver='GPKG'\n",
    ")"
   ]
  },
  {
   "cell_type": "markdown",
   "id": "830104c5-44a6-41e9-9bda-24c4194f200f",
   "metadata": {},
   "source": [
    "## Zona de Vida Silvestre (ZVS)"
   ]
  },
  {
   "cell_type": "code",
   "execution_count": 14,
   "id": "6a6df275-d9ff-4282-ac80-2cd36e6d22bf",
   "metadata": {},
   "outputs": [
    {
     "name": "stdout",
     "output_type": "stream",
     "text": [
      "epsg:4674\n"
     ]
    },
    {
     "data": {
      "text/html": [
       "<div>\n",
       "<style scoped>\n",
       "    .dataframe tbody tr th:only-of-type {\n",
       "        vertical-align: middle;\n",
       "    }\n",
       "\n",
       "    .dataframe tbody tr th {\n",
       "        vertical-align: top;\n",
       "    }\n",
       "\n",
       "    .dataframe thead th {\n",
       "        text-align: right;\n",
       "    }\n",
       "</style>\n",
       "<table border=\"1\" class=\"dataframe\">\n",
       "  <thead>\n",
       "    <tr style=\"text-align: right;\">\n",
       "      <th></th>\n",
       "      <th>LEG_MAPA</th>\n",
       "      <th>AREA</th>\n",
       "      <th>area_ha</th>\n",
       "      <th>geometry</th>\n",
       "    </tr>\n",
       "  </thead>\n",
       "  <tbody>\n",
       "    <tr>\n",
       "      <th>0</th>\n",
       "      <td>Formação Arbórea / Arbustiva em Região de Várzea</td>\n",
       "      <td>2.61</td>\n",
       "      <td>2.64087</td>\n",
       "      <td>POLYGON ((-47.91239 -22.19084, -47.91243 -22.1...</td>\n",
       "    </tr>\n",
       "    <tr>\n",
       "      <th>1</th>\n",
       "      <td>Formação Arbórea / Arbustiva em Região de Várzea</td>\n",
       "      <td>0.64</td>\n",
       "      <td>0.64689</td>\n",
       "      <td>POLYGON ((-47.87815 -22.19561, -47.87787 -22.1...</td>\n",
       "    </tr>\n",
       "    <tr>\n",
       "      <th>2</th>\n",
       "      <td>Formação Arbórea / Arbustiva em Região de Várzea</td>\n",
       "      <td>2.72</td>\n",
       "      <td>2.74570</td>\n",
       "      <td>POLYGON ((-47.83974 -22.20013, -47.84020 -22.2...</td>\n",
       "    </tr>\n",
       "    <tr>\n",
       "      <th>3</th>\n",
       "      <td>Formação Arbórea / Arbustiva em Região de Várzea</td>\n",
       "      <td>1.08</td>\n",
       "      <td>1.09228</td>\n",
       "      <td>POLYGON ((-47.81569 -22.20162, -47.81691 -22.2...</td>\n",
       "    </tr>\n",
       "    <tr>\n",
       "      <th>4</th>\n",
       "      <td>Formação Arbórea / Arbustiva em Região de Várzea</td>\n",
       "      <td>65.80</td>\n",
       "      <td>66.50063</td>\n",
       "      <td>POLYGON ((-47.84345 -22.19775, -47.84324 -22.1...</td>\n",
       "    </tr>\n",
       "  </tbody>\n",
       "</table>\n",
       "</div>"
      ],
      "text/plain": [
       "                                           LEG_MAPA   AREA   area_ha  \\\n",
       "0  Formação Arbórea / Arbustiva em Região de Várzea   2.61   2.64087   \n",
       "1  Formação Arbórea / Arbustiva em Região de Várzea   0.64   0.64689   \n",
       "2  Formação Arbórea / Arbustiva em Região de Várzea   2.72   2.74570   \n",
       "3  Formação Arbórea / Arbustiva em Região de Várzea   1.08   1.09228   \n",
       "4  Formação Arbórea / Arbustiva em Região de Várzea  65.80  66.50063   \n",
       "\n",
       "                                            geometry  \n",
       "0  POLYGON ((-47.91239 -22.19084, -47.91243 -22.1...  \n",
       "1  POLYGON ((-47.87815 -22.19561, -47.87787 -22.1...  \n",
       "2  POLYGON ((-47.83974 -22.20013, -47.84020 -22.2...  \n",
       "3  POLYGON ((-47.81569 -22.20162, -47.81691 -22.2...  \n",
       "4  POLYGON ((-47.84345 -22.19775, -47.84324 -22.1...  "
      ]
     },
     "metadata": {},
     "output_type": "display_data"
    },
    {
     "name": "stderr",
     "output_type": "stream",
     "text": [
      "/home/michel/Documents/conda/envs/pablocarreira-py39/lib/python3.9/site-packages/geopandas/io/file.py:362: FutureWarning: pandas.Int64Index is deprecated and will be removed from pandas in a future version. Use pandas.Index with the appropriate dtype instead.\n",
      "  pd.Int64Index,\n"
     ]
    }
   ],
   "source": [
    "gdf = gpd.read_file(\n",
    "    os.path.join(\n",
    "        '../data/input/Base Cartográfica Vetorial/Zona de Vida Silvestre (ZVS)',\n",
    "        #'Bases vetoriais limites APA Corumbataí',\n",
    "        #'Shapefile - Sirgas 2000',\n",
    "    ),\n",
    ")\n",
    "gdf['LEG_MAPA'] = gdf['LEG_MAPA'].str.replace('ma��', 'maçã')\n",
    "gdf['LEG_MAPA'] = gdf['LEG_MAPA'].str.replace('Arb�', 'Arbó')\n",
    "gdf['LEG_MAPA'] = gdf['LEG_MAPA'].str.replace('V�r', 'Vár')\n",
    "gdf['LEG_MAPA'] = gdf['LEG_MAPA'].str.replace('gi�o', 'gião')\n",
    "\n",
    "print(gdf.crs)\n",
    "gdf = gdf.to_crs(epsg=4326)\n",
    "\n",
    "#gdf.plot()\n",
    "drop_columns(gdf)\n",
    "display(gdf.head())\n",
    "\n",
    "gdf.to_file(\n",
    "    os.path.join(output_path_gpkg, 'apa_corumbatai_zvs.gpkg'),\n",
    "    layer='Zona de Vida Silvestre (ZVS)',\n",
    "    driver='GPKG'\n",
    ")"
   ]
  },
  {
   "cell_type": "markdown",
   "id": "a6f1f754-b62b-4c89-a0e9-645f061875ba",
   "metadata": {},
   "source": [
    "## Vegetação Natural: mun"
   ]
  },
  {
   "cell_type": "code",
   "execution_count": 15,
   "id": "d63e4479-ea4c-471d-bdff-80c5b23bcad6",
   "metadata": {},
   "outputs": [
    {
     "name": "stdout",
     "output_type": "stream",
     "text": [
      "epsg:4326\n",
      "[1]\n"
     ]
    },
    {
     "data": {
      "text/html": [
       "<div>\n",
       "<style scoped>\n",
       "    .dataframe tbody tr th:only-of-type {\n",
       "        vertical-align: middle;\n",
       "    }\n",
       "\n",
       "    .dataframe tbody tr th {\n",
       "        vertical-align: top;\n",
       "    }\n",
       "\n",
       "    .dataframe thead th {\n",
       "        text-align: right;\n",
       "    }\n",
       "</style>\n",
       "<table border=\"1\" class=\"dataframe\">\n",
       "  <thead>\n",
       "    <tr style=\"text-align: right;\">\n",
       "      <th></th>\n",
       "      <th>ID</th>\n",
       "      <th>geometry</th>\n",
       "    </tr>\n",
       "  </thead>\n",
       "  <tbody>\n",
       "    <tr>\n",
       "      <th>0</th>\n",
       "      <td>1</td>\n",
       "      <td>POLYGON ((-47.85631 -21.57951, -47.85685 -21.5...</td>\n",
       "    </tr>\n",
       "    <tr>\n",
       "      <th>1</th>\n",
       "      <td>2</td>\n",
       "      <td>POLYGON ((-47.85308 -21.58247, -47.85361 -21.5...</td>\n",
       "    </tr>\n",
       "    <tr>\n",
       "      <th>2</th>\n",
       "      <td>3</td>\n",
       "      <td>POLYGON ((-47.85308 -21.58247, -47.85281 -21.5...</td>\n",
       "    </tr>\n",
       "    <tr>\n",
       "      <th>3</th>\n",
       "      <td>4</td>\n",
       "      <td>POLYGON ((-47.85631 -21.58517, -47.85631 -21.5...</td>\n",
       "    </tr>\n",
       "    <tr>\n",
       "      <th>4</th>\n",
       "      <td>5</td>\n",
       "      <td>POLYGON ((-47.85631 -21.58517, -47.85631 -21.5...</td>\n",
       "    </tr>\n",
       "  </tbody>\n",
       "</table>\n",
       "</div>"
      ],
      "text/plain": [
       "   ID                                           geometry\n",
       "0   1  POLYGON ((-47.85631 -21.57951, -47.85685 -21.5...\n",
       "1   2  POLYGON ((-47.85308 -21.58247, -47.85361 -21.5...\n",
       "2   3  POLYGON ((-47.85308 -21.58247, -47.85281 -21.5...\n",
       "3   4  POLYGON ((-47.85631 -21.58517, -47.85631 -21.5...\n",
       "4   5  POLYGON ((-47.85631 -21.58517, -47.85631 -21.5..."
      ]
     },
     "metadata": {},
     "output_type": "display_data"
    },
    {
     "name": "stderr",
     "output_type": "stream",
     "text": [
      "/home/michel/Documents/conda/envs/pablocarreira-py39/lib/python3.9/site-packages/geopandas/io/file.py:362: FutureWarning: pandas.Int64Index is deprecated and will be removed from pandas in a future version. Use pandas.Index with the appropriate dtype instead.\n",
      "  pd.Int64Index,\n"
     ]
    }
   ],
   "source": [
    "gdf = gpd.read_file(\n",
    "    os.path.join(\n",
    "        '../data/input/Base Cartográfica Vetorial/Vegetação natural 2019 (Mapbiomas2020, coleção 5)',\n",
    "        'apacp_munic+buf2km_veg-nat_mapbiomas2019-colecao5_shapefile_wgs84.zip',\n",
    "        #'Shapefile - Sirgas 2000',\n",
    "    )\n",
    ")\n",
    "\n",
    "print(gdf.crs)\n",
    "gdf = gdf.to_crs(epsg=4326)\n",
    "\n",
    "#gdf.plot()\n",
    "drop_columns(gdf)\n",
    "display(gdf.head())\n",
    "\n",
    "gdf.to_file(\n",
    "    os.path.join(output_path_gpkg, 'apa_corumbatai_veg_mun.gpkg'),\n",
    "    layer='Vegetação Natural - Município (MapBiomas - Coleção 5)',\n",
    "    driver='GPKG'\n",
    ")"
   ]
  },
  {
   "cell_type": "markdown",
   "id": "f75faf0d-8141-469f-b6f6-8b3e7f315a6e",
   "metadata": {},
   "source": [
    "## Vegetação Natural: reg"
   ]
  },
  {
   "cell_type": "code",
   "execution_count": 16,
   "id": "2cbdfd93-7af6-45eb-ae86-0224207770b1",
   "metadata": {},
   "outputs": [
    {
     "name": "stdout",
     "output_type": "stream",
     "text": [
      "epsg:4326\n"
     ]
    },
    {
     "data": {
      "text/html": [
       "<div>\n",
       "<style scoped>\n",
       "    .dataframe tbody tr th:only-of-type {\n",
       "        vertical-align: middle;\n",
       "    }\n",
       "\n",
       "    .dataframe tbody tr th {\n",
       "        vertical-align: top;\n",
       "    }\n",
       "\n",
       "    .dataframe thead th {\n",
       "        text-align: right;\n",
       "    }\n",
       "</style>\n",
       "<table border=\"1\" class=\"dataframe\">\n",
       "  <thead>\n",
       "    <tr style=\"text-align: right;\">\n",
       "      <th></th>\n",
       "      <th>ID</th>\n",
       "      <th>GRIDCODE</th>\n",
       "      <th>geometry</th>\n",
       "    </tr>\n",
       "  </thead>\n",
       "  <tbody>\n",
       "    <tr>\n",
       "      <th>0</th>\n",
       "      <td>1</td>\n",
       "      <td>3</td>\n",
       "      <td>POLYGON ((-47.99942 -21.30714, -47.99969 -21.3...</td>\n",
       "    </tr>\n",
       "    <tr>\n",
       "      <th>1</th>\n",
       "      <td>2</td>\n",
       "      <td>3</td>\n",
       "      <td>POLYGON ((-47.99996 -21.30740, -48.00023 -21.3...</td>\n",
       "    </tr>\n",
       "    <tr>\n",
       "      <th>2</th>\n",
       "      <td>3</td>\n",
       "      <td>3</td>\n",
       "      <td>POLYGON ((-48.00104 -21.30794, -48.00131 -21.3...</td>\n",
       "    </tr>\n",
       "    <tr>\n",
       "      <th>3</th>\n",
       "      <td>4</td>\n",
       "      <td>3</td>\n",
       "      <td>POLYGON ((-48.00185 -21.30821, -48.00185 -21.3...</td>\n",
       "    </tr>\n",
       "    <tr>\n",
       "      <th>4</th>\n",
       "      <td>5</td>\n",
       "      <td>3</td>\n",
       "      <td>POLYGON ((-48.00185 -21.30821, -48.00185 -21.3...</td>\n",
       "    </tr>\n",
       "  </tbody>\n",
       "</table>\n",
       "</div>"
      ],
      "text/plain": [
       "   ID  GRIDCODE                                           geometry\n",
       "0   1         3  POLYGON ((-47.99942 -21.30714, -47.99969 -21.3...\n",
       "1   2         3  POLYGON ((-47.99996 -21.30740, -48.00023 -21.3...\n",
       "2   3         3  POLYGON ((-48.00104 -21.30794, -48.00131 -21.3...\n",
       "3   4         3  POLYGON ((-48.00185 -21.30821, -48.00185 -21.3...\n",
       "4   5         3  POLYGON ((-48.00185 -21.30821, -48.00185 -21.3..."
      ]
     },
     "metadata": {},
     "output_type": "display_data"
    },
    {
     "name": "stderr",
     "output_type": "stream",
     "text": [
      "/home/michel/Documents/conda/envs/pablocarreira-py39/lib/python3.9/site-packages/geopandas/io/file.py:362: FutureWarning: pandas.Int64Index is deprecated and will be removed from pandas in a future version. Use pandas.Index with the appropriate dtype instead.\n",
      "  pd.Int64Index,\n"
     ]
    }
   ],
   "source": [
    "gdf = gpd.read_file(\n",
    "    os.path.join(\n",
    "        '../data/input/Base Cartográfica Vetorial/Vegetação natural 2019 (Mapbiomas2020, coleção 5)',\n",
    "        'apacp_regional_veg-nat_mapbiomas2019-colecao5_shapefile_wgs84.zip',\n",
    "        #'Shapefile - Sirgas 2000',\n",
    "    )\n",
    ")\n",
    "print(gdf.crs)\n",
    "gdf = gdf.to_crs(epsg=4326)\n",
    "\n",
    "#gdf.plot()\n",
    "drop_columns(gdf)\n",
    "display(gdf.head())\n",
    "\n",
    "gdf.to_file(\n",
    "    os.path.join(output_path_gpkg, 'apa_corumbatai_veg_reg.gpkg'),\n",
    "    layer='Vegetação Natural - Regional (MapBiomas - Coleção 5)',\n",
    "    driver='GPKG'\n",
    ")"
   ]
  },
  {
   "cell_type": "markdown",
   "id": "1dbf435d-49cb-4d68-8938-97edfcfc9624",
   "metadata": {},
   "source": [
    "## Uso Solo: mun"
   ]
  },
  {
   "cell_type": "code",
   "execution_count": 17,
   "id": "38838235-252c-46ce-a42f-78412fbcbd81",
   "metadata": {},
   "outputs": [
    {
     "name": "stdout",
     "output_type": "stream",
     "text": [
      "epsg:4326\n"
     ]
    },
    {
     "data": {
      "text/html": [
       "<div>\n",
       "<style scoped>\n",
       "    .dataframe tbody tr th:only-of-type {\n",
       "        vertical-align: middle;\n",
       "    }\n",
       "\n",
       "    .dataframe tbody tr th {\n",
       "        vertical-align: top;\n",
       "    }\n",
       "\n",
       "    .dataframe thead th {\n",
       "        text-align: right;\n",
       "    }\n",
       "</style>\n",
       "<table border=\"1\" class=\"dataframe\">\n",
       "  <thead>\n",
       "    <tr style=\"text-align: right;\">\n",
       "      <th></th>\n",
       "      <th>ID</th>\n",
       "      <th>GRIDCODE</th>\n",
       "      <th>geometry</th>\n",
       "    </tr>\n",
       "  </thead>\n",
       "  <tbody>\n",
       "    <tr>\n",
       "      <th>0</th>\n",
       "      <td>1</td>\n",
       "      <td>15</td>\n",
       "      <td>POLYGON ((-47.85577 -21.57924, -47.85604 -21.5...</td>\n",
       "    </tr>\n",
       "    <tr>\n",
       "      <th>1</th>\n",
       "      <td>2</td>\n",
       "      <td>3</td>\n",
       "      <td>POLYGON ((-47.85631 -21.57951, -47.85685 -21.5...</td>\n",
       "    </tr>\n",
       "    <tr>\n",
       "      <th>2</th>\n",
       "      <td>3</td>\n",
       "      <td>21</td>\n",
       "      <td>POLYGON ((-47.85577 -21.57951, -47.85631 -21.5...</td>\n",
       "    </tr>\n",
       "    <tr>\n",
       "      <th>3</th>\n",
       "      <td>4</td>\n",
       "      <td>3</td>\n",
       "      <td>POLYGON ((-47.85523 -21.58059, -47.85577 -21.5...</td>\n",
       "    </tr>\n",
       "    <tr>\n",
       "      <th>4</th>\n",
       "      <td>5</td>\n",
       "      <td>4</td>\n",
       "      <td>POLYGON ((-47.85469 -21.58059, -47.85523 -21.5...</td>\n",
       "    </tr>\n",
       "  </tbody>\n",
       "</table>\n",
       "</div>"
      ],
      "text/plain": [
       "   ID  GRIDCODE                                           geometry\n",
       "0   1        15  POLYGON ((-47.85577 -21.57924, -47.85604 -21.5...\n",
       "1   2         3  POLYGON ((-47.85631 -21.57951, -47.85685 -21.5...\n",
       "2   3        21  POLYGON ((-47.85577 -21.57951, -47.85631 -21.5...\n",
       "3   4         3  POLYGON ((-47.85523 -21.58059, -47.85577 -21.5...\n",
       "4   5         4  POLYGON ((-47.85469 -21.58059, -47.85523 -21.5..."
      ]
     },
     "metadata": {},
     "output_type": "display_data"
    },
    {
     "name": "stderr",
     "output_type": "stream",
     "text": [
      "/home/michel/Documents/conda/envs/pablocarreira-py39/lib/python3.9/site-packages/geopandas/io/file.py:362: FutureWarning: pandas.Int64Index is deprecated and will be removed from pandas in a future version. Use pandas.Index with the appropriate dtype instead.\n",
      "  pd.Int64Index,\n"
     ]
    },
    {
     "data": {
      "image/png": "[encoded data removed]",
      "text/plain": [
       "<Figure size 432x288 with 1 Axes>"
      ]
     },
     "metadata": {
      "needs_background": "light"
     },
     "output_type": "display_data"
    }
   ],
   "source": [
    "gdf = gpd.read_file(\n",
    "    os.path.join(\n",
    "        '../data/input/Base Cartográfica Vetorial/Uso do Solo 2019 (Mapbiomas2020, coleção 5)',\n",
    "        'apacp_munic+buf2km_uso-solo-mapbiomas2019-colecao5_wgs84.zip',\n",
    "        #'Shapefile - Sirgas 2000',\n",
    "    )\n",
    ")\n",
    "print(gdf.crs)\n",
    "gdf = gdf.to_crs(epsg=4326)\n",
    "\n",
    "#gdf.plot()\n",
    "drop_columns(gdf)\n",
    "display(gdf.head())\n",
    "\n",
    "gdf.plot()\n",
    "gdf.to_file(\n",
    "    os.path.join(output_path_gpkg, 'apa_corumbatai_veg_mun.gpkg'),\n",
    "    layer='Uso Solo - Município (MapBiomas - Coleção 5)',\n",
    "    driver='GPKG'\n",
    ")"
   ]
  },
  {
   "cell_type": "markdown",
   "id": "867d4161-baee-44ae-91a1-e40f61ec9a1c",
   "metadata": {},
   "source": [
    "## Uso Solo: reg"
   ]
  },
  {
   "cell_type": "code",
   "execution_count": 18,
   "id": "5b790706-8ac3-4f65-834d-f5f55f0c3e2a",
   "metadata": {},
   "outputs": [
    {
     "name": "stdout",
     "output_type": "stream",
     "text": [
      "epsg:4326\n"
     ]
    },
    {
     "data": {
      "text/html": [
       "<div>\n",
       "<style scoped>\n",
       "    .dataframe tbody tr th:only-of-type {\n",
       "        vertical-align: middle;\n",
       "    }\n",
       "\n",
       "    .dataframe tbody tr th {\n",
       "        vertical-align: top;\n",
       "    }\n",
       "\n",
       "    .dataframe thead th {\n",
       "        text-align: right;\n",
       "    }\n",
       "</style>\n",
       "<table border=\"1\" class=\"dataframe\">\n",
       "  <thead>\n",
       "    <tr style=\"text-align: right;\">\n",
       "      <th></th>\n",
       "      <th>ID</th>\n",
       "      <th>GRIDCODE</th>\n",
       "      <th>geometry</th>\n",
       "    </tr>\n",
       "  </thead>\n",
       "  <tbody>\n",
       "    <tr>\n",
       "      <th>0</th>\n",
       "      <td>1</td>\n",
       "      <td>21</td>\n",
       "      <td>POLYGON ((-47.99781 -21.30660, -47.99862 -21.3...</td>\n",
       "    </tr>\n",
       "    <tr>\n",
       "      <th>1</th>\n",
       "      <td>2</td>\n",
       "      <td>21</td>\n",
       "      <td>POLYGON ((-47.99915 -21.30687, -47.99915 -21.3...</td>\n",
       "    </tr>\n",
       "    <tr>\n",
       "      <th>2</th>\n",
       "      <td>3</td>\n",
       "      <td>21</td>\n",
       "      <td>POLYGON ((-47.99700 -21.30687, -47.99727 -21.3...</td>\n",
       "    </tr>\n",
       "    <tr>\n",
       "      <th>3</th>\n",
       "      <td>4</td>\n",
       "      <td>3</td>\n",
       "      <td>POLYGON ((-47.99942 -21.30714, -47.99969 -21.3...</td>\n",
       "    </tr>\n",
       "    <tr>\n",
       "      <th>4</th>\n",
       "      <td>5</td>\n",
       "      <td>21</td>\n",
       "      <td>POLYGON ((-47.99942 -21.30714, -47.99942 -21.3...</td>\n",
       "    </tr>\n",
       "  </tbody>\n",
       "</table>\n",
       "</div>"
      ],
      "text/plain": [
       "   ID  GRIDCODE                                           geometry\n",
       "0   1        21  POLYGON ((-47.99781 -21.30660, -47.99862 -21.3...\n",
       "1   2        21  POLYGON ((-47.99915 -21.30687, -47.99915 -21.3...\n",
       "2   3        21  POLYGON ((-47.99700 -21.30687, -47.99727 -21.3...\n",
       "3   4         3  POLYGON ((-47.99942 -21.30714, -47.99969 -21.3...\n",
       "4   5        21  POLYGON ((-47.99942 -21.30714, -47.99942 -21.3..."
      ]
     },
     "metadata": {},
     "output_type": "display_data"
    },
    {
     "name": "stderr",
     "output_type": "stream",
     "text": [
      "/home/michel/Documents/conda/envs/pablocarreira-py39/lib/python3.9/site-packages/geopandas/io/file.py:362: FutureWarning: pandas.Int64Index is deprecated and will be removed from pandas in a future version. Use pandas.Index with the appropriate dtype instead.\n",
      "  pd.Int64Index,\n"
     ]
    }
   ],
   "source": [
    "gdf = gpd.read_file(\n",
    "    os.path.join(\n",
    "        '../data/input/Base Cartográfica Vetorial/Uso do Solo 2019 (Mapbiomas2020, coleção 5)',\n",
    "        'apacp_regional_uso-solo_mapbiomas2019-colecao5_wgs84.zip',\n",
    "        #'Shapefile - Sirgas 2000',\n",
    "    )\n",
    ")\n",
    "\n",
    "print(gdf.crs)\n",
    "gdf = gdf.to_crs(epsg=4326)\n",
    "\n",
    "#gdf.plot()\n",
    "drop_columns(gdf)\n",
    "display(gdf.head())\n",
    "\n",
    "gdf.to_file(\n",
    "    os.path.join(output_path_gpkg, 'apa_corumbatai_uso_reg.gpkg'),\n",
    "    layer='Uso Solo - Regional (MapBiomas - Coleção 5)',\n",
    "    driver='GPKG'\n",
    ")"
   ]
  },
  {
   "cell_type": "markdown",
   "id": "78049504-eec5-424c-8165-0f8d091702c1",
   "metadata": {},
   "source": [
    "<br>\n",
    "\n",
    "## Pedologia, errado!"
   ]
  },
  {
   "cell_type": "code",
   "execution_count": 19,
   "id": "675d475a-76b3-4bf0-9702-8b81376b3616",
   "metadata": {},
   "outputs": [],
   "source": [
    "# gdf = gpd.read_file(\n",
    "#     os.path.join(\n",
    "#         '../data/input/Base Cartográfica Vetorial/Pedologia (Instituto Florestal, 2017)',\n",
    "#         'apacp_pedologico_rossi2017_s2000.zip',\n",
    "#         #'Shapefile - Sirgas 2000',\n",
    "#     )\n",
    "# )\n",
    "# gdf = gdf.set_crs(22523)\n",
    "# print(gdf.crs)\n",
    "# gdf = gdf.to_crs(epsg=4326)\n",
    "\n",
    "# #gdf.plot()\n",
    "# drop_columns(gdf)\n",
    "# display(gdf.head())\n",
    "\n",
    "# gdf.to_file(\n",
    "#     os.path.join(output_path_gpkg, 'apa_corumbatai_pedologia.gpkg'),\n",
    "#     layer='Pedologia (Rossi, 2017)',\n",
    "#     driver='GPKG'\n",
    "# )"
   ]
  },
  {
   "cell_type": "markdown",
   "id": "81f72b50-068c-4557-8f0e-ccfff55956da",
   "metadata": {},
   "source": [
    "<br>\n",
    "\n",
    "## Geologia"
   ]
  },
  {
   "cell_type": "code",
   "execution_count": 20,
   "id": "9f812984-cc75-484c-b105-a1dc0e2a0446",
   "metadata": {},
   "outputs": [
    {
     "name": "stdout",
     "output_type": "stream",
     "text": [
      "epsg:4674\n",
      "['Faneroz�ico']\n",
      "['Faneroz�ico']\n",
      "[None]\n",
      "[None]\n",
      "[None]\n",
      "[None]\n"
     ]
    },
    {
     "data": {
      "text/html": [
       "<div>\n",
       "<style scoped>\n",
       "    .dataframe tbody tr th:only-of-type {\n",
       "        vertical-align: middle;\n",
       "    }\n",
       "\n",
       "    .dataframe tbody tr th {\n",
       "        vertical-align: top;\n",
       "    }\n",
       "\n",
       "    .dataframe thead th {\n",
       "        text-align: right;\n",
       "    }\n",
       "</style>\n",
       "<table border=\"1\" class=\"dataframe\">\n",
       "  <thead>\n",
       "    <tr style=\"text-align: right;\">\n",
       "      <th></th>\n",
       "      <th>OBJECTID</th>\n",
       "      <th>SIGLA_UNID</th>\n",
       "      <th>NOME_UNIDA</th>\n",
       "      <th>HIERARQUIA</th>\n",
       "      <th>IDADE_MAX</th>\n",
       "      <th>ERRO_MAX</th>\n",
       "      <th>ERA_MAXIMA</th>\n",
       "      <th>PERIOD_MAX</th>\n",
       "      <th>EPOCA_MAX</th>\n",
       "      <th>MET_ID_MAX</th>\n",
       "      <th>...</th>\n",
       "      <th>CLASSE_RX2</th>\n",
       "      <th>SUBCLA_RX1</th>\n",
       "      <th>SUBCLA_RX2</th>\n",
       "      <th>REF_ID_MAX</th>\n",
       "      <th>REF_ID_MIN</th>\n",
       "      <th>SHAPE_Leng</th>\n",
       "      <th>area_apa</th>\n",
       "      <th>Shape_Le_1</th>\n",
       "      <th>Shape_Area</th>\n",
       "      <th>geometry</th>\n",
       "    </tr>\n",
       "  </thead>\n",
       "  <tbody>\n",
       "    <tr>\n",
       "      <th>0</th>\n",
       "      <td>1</td>\n",
       "      <td>C2P1i</td>\n",
       "      <td>Itararé</td>\n",
       "      <td>Grupo</td>\n",
       "      <td>318.0</td>\n",
       "      <td>0.0</td>\n",
       "      <td>Paleozóico</td>\n",
       "      <td>Carbonífero</td>\n",
       "      <td>Pensilvaniano</td>\n",
       "      <td>Paleontol�gico</td>\n",
       "      <td>...</td>\n",
       "      <td>None</td>\n",
       "      <td>Cl�stica</td>\n",
       "      <td>None</td>\n",
       "      <td>Daemon e Quadros (1970)</td>\n",
       "      <td>Daemon e Quadros (1970)</td>\n",
       "      <td>0.39545</td>\n",
       "      <td>627.016611</td>\n",
       "      <td>14076.015642</td>\n",
       "      <td>6.270166e+06</td>\n",
       "      <td>POLYGON ((-47.63968 -22.50304, -47.63974 -22.5...</td>\n",
       "    </tr>\n",
       "    <tr>\n",
       "      <th>1</th>\n",
       "      <td>2</td>\n",
       "      <td>K1_delta_sg</td>\n",
       "      <td>Serra Geral, intrusivas básicas</td>\n",
       "      <td>Formação</td>\n",
       "      <td>131.9</td>\n",
       "      <td>0.4</td>\n",
       "      <td>Mesozóico</td>\n",
       "      <td>Cretáceo</td>\n",
       "      <td>Inferior</td>\n",
       "      <td>Isotópico Radiogênico</td>\n",
       "      <td>...</td>\n",
       "      <td>�gnea</td>\n",
       "      <td>Plut�nica</td>\n",
       "      <td>Plut�nica</td>\n",
       "      <td>Ernesto et al. (1999)</td>\n",
       "      <td>Turner et al. (1994)</td>\n",
       "      <td>0.02664</td>\n",
       "      <td>56.479359</td>\n",
       "      <td>2864.514088</td>\n",
       "      <td>5.647936e+05</td>\n",
       "      <td>POLYGON ((-47.64243 -22.25851, -47.64396 -22.2...</td>\n",
       "    </tr>\n",
       "    <tr>\n",
       "      <th>2</th>\n",
       "      <td>3</td>\n",
       "      <td>K1_beta_sg</td>\n",
       "      <td>Serra Geral</td>\n",
       "      <td>Formação</td>\n",
       "      <td>138.4</td>\n",
       "      <td>1.3</td>\n",
       "      <td>Mesozóico</td>\n",
       "      <td>Cretáceo</td>\n",
       "      <td>Inferior</td>\n",
       "      <td>Isotópico Radiogênico</td>\n",
       "      <td>...</td>\n",
       "      <td>None</td>\n",
       "      <td>Vulc�nica</td>\n",
       "      <td>None</td>\n",
       "      <td>Turner et al. (1994)</td>\n",
       "      <td>Stewart et al. (1996)</td>\n",
       "      <td>0.12248</td>\n",
       "      <td>56.215007</td>\n",
       "      <td>5917.649508</td>\n",
       "      <td>5.621501e+05</td>\n",
       "      <td>MULTIPOLYGON (((-47.56839 -22.17651, -47.56842...</td>\n",
       "    </tr>\n",
       "    <tr>\n",
       "      <th>3</th>\n",
       "      <td>4</td>\n",
       "      <td>P1tt</td>\n",
       "      <td>Tatuí</td>\n",
       "      <td>Formação</td>\n",
       "      <td>294.0</td>\n",
       "      <td>0.0</td>\n",
       "      <td>Paleozóico</td>\n",
       "      <td>Permiano</td>\n",
       "      <td>Cisuraliano</td>\n",
       "      <td>Paleontol�gico</td>\n",
       "      <td>...</td>\n",
       "      <td>Sedimentar (ou Sedimentos)</td>\n",
       "      <td>Cl�stica</td>\n",
       "      <td>Cl�stica, Qu�mica</td>\n",
       "      <td>Daemon e Quadros (1970)</td>\n",
       "      <td>Daemon e Quadros (1970)</td>\n",
       "      <td>1.13184</td>\n",
       "      <td>908.917850</td>\n",
       "      <td>19609.846456</td>\n",
       "      <td>9.089178e+06</td>\n",
       "      <td>POLYGON ((-47.65319 -22.45788, -47.65023 -22.4...</td>\n",
       "    </tr>\n",
       "    <tr>\n",
       "      <th>4</th>\n",
       "      <td>5</td>\n",
       "      <td>K1_delta_sg</td>\n",
       "      <td>Serra Geral, intrusivas básicas</td>\n",
       "      <td>Formação</td>\n",
       "      <td>131.9</td>\n",
       "      <td>0.4</td>\n",
       "      <td>Mesozóico</td>\n",
       "      <td>Cretáceo</td>\n",
       "      <td>Inferior</td>\n",
       "      <td>Isotópico Radiogênico</td>\n",
       "      <td>...</td>\n",
       "      <td>�gnea</td>\n",
       "      <td>Plut�nica</td>\n",
       "      <td>Plut�nica</td>\n",
       "      <td>Ernesto et al. (1999)</td>\n",
       "      <td>Turner et al. (1994)</td>\n",
       "      <td>0.11265</td>\n",
       "      <td>311.399869</td>\n",
       "      <td>12003.973458</td>\n",
       "      <td>3.113999e+06</td>\n",
       "      <td>POLYGON ((-47.64808 -22.45094, -47.65319 -22.4...</td>\n",
       "    </tr>\n",
       "  </tbody>\n",
       "</table>\n",
       "<p>5 rows × 40 columns</p>\n",
       "</div>"
      ],
      "text/plain": [
       "   OBJECTID   SIGLA_UNID                       NOME_UNIDA HIERARQUIA  \\\n",
       "0         1        C2P1i                          Itararé      Grupo   \n",
       "1         2  K1_delta_sg  Serra Geral, intrusivas básicas   Formação   \n",
       "2         3   K1_beta_sg                      Serra Geral   Formação   \n",
       "3         4         P1tt                            Tatuí   Formação   \n",
       "4         5  K1_delta_sg  Serra Geral, intrusivas básicas   Formação   \n",
       "\n",
       "   IDADE_MAX  ERRO_MAX  ERA_MAXIMA   PERIOD_MAX      EPOCA_MAX  \\\n",
       "0      318.0       0.0  Paleozóico  Carbonífero  Pensilvaniano   \n",
       "1      131.9       0.4   Mesozóico     Cretáceo       Inferior   \n",
       "2      138.4       1.3   Mesozóico     Cretáceo       Inferior   \n",
       "3      294.0       0.0  Paleozóico     Permiano    Cisuraliano   \n",
       "4      131.9       0.4   Mesozóico     Cretáceo       Inferior   \n",
       "\n",
       "              MET_ID_MAX  ...                  CLASSE_RX2 SUBCLA_RX1  \\\n",
       "0         Paleontol�gico  ...                        None   Cl�stica   \n",
       "1  Isotópico Radiogênico  ...                       �gnea  Plut�nica   \n",
       "2  Isotópico Radiogênico  ...                        None  Vulc�nica   \n",
       "3         Paleontol�gico  ...  Sedimentar (ou Sedimentos)   Cl�stica   \n",
       "4  Isotópico Radiogênico  ...                       �gnea  Plut�nica   \n",
       "\n",
       "          SUBCLA_RX2               REF_ID_MAX               REF_ID_MIN  \\\n",
       "0               None  Daemon e Quadros (1970)  Daemon e Quadros (1970)   \n",
       "1          Plut�nica    Ernesto et al. (1999)     Turner et al. (1994)   \n",
       "2               None     Turner et al. (1994)    Stewart et al. (1996)   \n",
       "3  Cl�stica, Qu�mica  Daemon e Quadros (1970)  Daemon e Quadros (1970)   \n",
       "4          Plut�nica    Ernesto et al. (1999)     Turner et al. (1994)   \n",
       "\n",
       "  SHAPE_Leng    area_apa    Shape_Le_1    Shape_Area  \\\n",
       "0    0.39545  627.016611  14076.015642  6.270166e+06   \n",
       "1    0.02664   56.479359   2864.514088  5.647936e+05   \n",
       "2    0.12248   56.215007   5917.649508  5.621501e+05   \n",
       "3    1.13184  908.917850  19609.846456  9.089178e+06   \n",
       "4    0.11265  311.399869  12003.973458  3.113999e+06   \n",
       "\n",
       "                                            geometry  \n",
       "0  POLYGON ((-47.63968 -22.50304, -47.63974 -22.5...  \n",
       "1  POLYGON ((-47.64243 -22.25851, -47.64396 -22.2...  \n",
       "2  MULTIPOLYGON (((-47.56839 -22.17651, -47.56842...  \n",
       "3  POLYGON ((-47.65319 -22.45788, -47.65023 -22.4...  \n",
       "4  POLYGON ((-47.64808 -22.45094, -47.65319 -22.4...  \n",
       "\n",
       "[5 rows x 40 columns]"
      ]
     },
     "metadata": {},
     "output_type": "display_data"
    },
    {
     "name": "stderr",
     "output_type": "stream",
     "text": [
      "/home/michel/Documents/conda/envs/pablocarreira-py39/lib/python3.9/site-packages/geopandas/io/file.py:362: FutureWarning: pandas.Int64Index is deprecated and will be removed from pandas in a future version. Use pandas.Index with the appropriate dtype instead.\n",
      "  pd.Int64Index,\n"
     ]
    }
   ],
   "source": [
    "gdf = gpd.read_file(\n",
    "    os.path.join(\n",
    "        '../data/input/Base Cartográfica Vetorial/Geologia (CPRM, 2006)',\n",
    "        'apacp-geologico_shp.zip',\n",
    "        #'Shapefile - Sirgas 2000',\n",
    "    )\n",
    ")\n",
    "\n",
    "gdf['NOME_UNIDA'] = gdf['NOME_UNIDA'].str.replace('Itarar�', 'Itararé')\n",
    "gdf['NOME_UNIDA'] = gdf['NOME_UNIDA'].str.replace('b�sicas', 'básicas')\n",
    "gdf['NOME_UNIDA'] = gdf['NOME_UNIDA'].str.replace('Piramb�ia', 'Pirambóia')\n",
    "gdf['NOME_UNIDA'] = gdf['NOME_UNIDA'].str.replace('Dep�sitos', 'Depósitos')\n",
    "gdf['NOME_UNIDA'] = gdf['NOME_UNIDA'].str.replace('col�vio-eluvionares', 'colúvio-aluvionares')\n",
    "gdf['NOME_UNIDA'] = gdf['NOME_UNIDA'].str.replace('Corumbata�', 'Corumbataí')\n",
    "gdf['NOME_UNIDA'] = gdf['NOME_UNIDA'].str.replace('Tatu�', 'Tatuí')\n",
    "\n",
    "gdf['HIERARQUIA'] = gdf['HIERARQUIA'].str.replace('Forma��o', 'Formação')\n",
    "gdf['ERA_MAXIMA'] = gdf['ERA_MAXIMA'].str.replace('z�ico', 'zóico')\n",
    "\n",
    "gdf['PERIOD_MAX'] = gdf['PERIOD_MAX'].str.replace('Jur�', 'Jurá')\n",
    "gdf['PERIOD_MAX'] = gdf['PERIOD_MAX'].str.replace('arbon�fer', 'arbonífer')\n",
    "gdf['PERIOD_MAX'] = gdf['PERIOD_MAX'].str.replace('Cret�ceo', 'Cretáceo')\n",
    "\n",
    "gdf['MET_ID_MAX'] = gdf['MET_ID_MAX'].str.replace('Isot�pico Radiog�nico', 'Isotópico Radiogênico')\n",
    "gdf['MET_ID_MAX'] = gdf['MET_ID_MAX'].str.replace('Estratigr�fico', 'Estratigráfico')\n",
    "\n",
    "gdf['MET_DAT_MA'] = gdf['MET_DAT_MA'].str.replace('Rela��es', 'Relações')\n",
    "gdf['MET_DAT_MA'] = gdf['MET_DAT_MA'].str.replace('Palinol�gico', 'Palinológico')\n",
    "\n",
    "gdf['ERA_MINIMA'] = gdf['ERA_MINIMA'].str.replace('z�ico', 'zóico')\n",
    "\n",
    "gdf['PERIODO_MI'] = gdf['PERIODO_MI'].str.replace('Tri�ssico', 'Triássico')\n",
    "gdf['PERIODO_MI'] = gdf['PERIODO_MI'].str.replace('Cret�ceo', 'Cretáceo')\n",
    "\n",
    "gdf['MET_DAT_MI'] = gdf['MET_DAT_MI'].str.replace('Rela��es', 'Relações')\n",
    "gdf['MET_DAT_MI'] = gdf['MET_DAT_MI'].str.replace('Palinol�gico', 'Palinológico')\n",
    "\n",
    "gdf['MET_ID_MIN'] = gdf['MET_ID_MIN'].str.replace('Paleontol�gico', 'Paleontológico')\n",
    "gdf['MET_ID_MIN'] = gdf['MET_ID_MIN'].str.replace('Isot�pico', 'Isotópico')\n",
    "gdf['MET_ID_MIN'] = gdf['MET_ID_MIN'].str.replace('Radiog�nico', 'Radiogênico')\n",
    "gdf['MET_ID_MIN'] = gdf['MET_ID_MIN'].str.replace('Estratigr�fico', 'Estratigráfico')\n",
    "\n",
    "gdf['SISTSED'] = gdf['SISTSED'].str.replace('Carbon�tico', 'Carbonático')\n",
    "gdf['SISTSED'] = gdf['SISTSED'].str.replace('Entrela�ado', 'Entrelavado')\n",
    "gdf['SISTSED'] = gdf['SISTSED'].str.replace('Carbon�tico', 'Carbonático')\n",
    "gdf['SISTSED'] = gdf['SISTSED'].str.replace('Des�rtico', 'Desértico')\n",
    "gdf['SISTSED'] = gdf['SISTSED'].str.replace('Carbon�tica', 'Carbonática')\n",
    "# Tem mais #TODO\n",
    "\n",
    "print(gdf.crs)\n",
    "gdf = gdf.to_crs(epsg=4326)\n",
    "\n",
    "#gdf.plot()\n",
    "drop_columns(gdf)\n",
    "display(gdf.head())\n",
    "\n",
    "gdf.to_file(\n",
    "    os.path.join(output_path_gpkg, 'apa_corumbatai_geologia.gpkg'),\n",
    "    layer='Geologia (CPRM, 2006)',\n",
    "    driver='GPKG'\n",
    ")"
   ]
  },
  {
   "cell_type": "code",
   "execution_count": null,
   "id": "1206aa17-62a4-47fe-a141-f9c0c9a9e0cf",
   "metadata": {},
   "outputs": [],
   "source": []
  },
  {
   "cell_type": "code",
   "execution_count": 21,
   "id": "88fe0c49-81a3-415b-af8d-34430b83c39f",
   "metadata": {},
   "outputs": [
    {
     "name": "stdout",
     "output_type": "stream",
     "text": [
      ">> OBJECTID\n",
      "{1, 2, 3, 4, 5, 6, 7, 8, 9, 10, 11, 12, 13, 14, 15, 16, 17, 18, 19, 20, 21, 22, 23, 24, 25, 26, 27, 28, 29, 30, 31, 32, 33, 34, 35, 36, 37, 38, 39, 40, 41, 42, 43, 44, 45, 46, 47, 48, 49, 50, 51, 54, 56, 57, 58, 59, 60, 63, 64, 65, 66, 67, 68, 69, 70, 71, 72, 73, 74, 75, 76, 78, 79, 80, 81}\n",
      ">> SIGLA_UNID\n",
      "{'K1_beta_sg', 'P1tt', 'P2i', 'Qce', 'K1_delta_sg', 'P3T1p', 'J3K1bt', 'K2Eit', 'Q2a', 'P3T1c', 'C2P1i', 'ENrc'}\n",
      ">> NOME_UNIDA\n",
      "{'Itararé', 'Depósitos colúvio-aluvionares', 'Irati', 'Corumbataí', 'Rio Claro', 'Itaqueri', 'Tatuí', 'Depósitos aluvionares', 'Botucatu', 'Serra Geral, intrusivas básicas', 'Serra Geral', 'Pirambóia'}\n",
      ">> HIERARQUIA\n",
      "{'Unidade', 'Grupo', 'Formação'}\n",
      ">> IDADE_MAX\n",
      "{96.0, 65.0, 1.8, 131.9, 260.0, 294.0, 138.4, 0.01, 154.0, 318.0}\n",
      ">> ERRO_MAX\n",
      "{0.0, 0.4, 1.3}\n",
      ">> ERA_MAXIMA\n",
      "{'Cenozóico', 'Mesozóico', 'Paleozóico'}\n",
      ">> PERIOD_MAX\n",
      "{'Jurássico', 'Carbonífero', 'Neogeno', 'Cretáceo', 'Paleogeno', 'Permiano'}\n",
      ">> EPOCA_MAX\n",
      "{'Pleistoceno', 'Lonpingiano', 'Cisuraliano', 'Superior', 'Paleoceno', 'Holoceno', 'Inferior', 'Pensilvaniano'}\n",
      ">> MET_ID_MAX\n",
      "{'Isotópico Radiogênico', 'Paleontol�gico', 'Estratigráfico/Estrutural'}\n",
      ">> MET_DAT_MA\n",
      "{'Palinológico', 'Relações de Campo', 'Ar-Ar em Mineral'}\n",
      ">> QLD_ID_MAX\n",
      "{'Indireta', 'Direta'}\n",
      ">> IDADE_MIN\n",
      "{0.0, 1.8, 97.0, 270.0, 241.0, 23.0, 251.0, 126.8, 127.7}\n",
      ">> ERRO_MIN\n",
      "{0.0, 8.0, 4.6}\n",
      ">> ERA_MINIMA\n",
      "{'Cenozóico', 'Mesozóico', 'Paleozóico'}\n",
      ">> PERIODO_MI\n",
      "{'Neogeno', 'Cretáceo', 'Paleogeno', 'Triássico', 'Permiano'}\n",
      ">> EPOCA_MIN\n",
      "{'Lonpingiano', 'Plioceno', 'Cisuraliano', 'Oligoceno', 'Holoceno', 'Inferior'}\n",
      ">> MET_ID_MIN\n",
      "{'Paleontológico', 'Isotópico Radiogênico', 'Estratigráfico/Estrutural'}\n",
      ">> MET_DAT_MI\n",
      "{'Palinológico', 'Relações de Campo', 'Ar-Ar em Mineral'}\n",
      ">> QLD_ID_MIN\n",
      "{'Indireta', 'Direta'}\n",
      ">> AMBSED\n",
      "{None, 'Continental', 'Marinho', 'Continental, Marinho'}\n",
      ">> SISTSED\n",
      "{'Glacial', 'Lacustre, Plataformal Carbonático, Profundo', 'Fluvial Anastomosado, Fluvial Entrelavado, Leque Deltaico', None, 'Fluvial Entrelavado', 'Rampa Carbonática', 'Fluvial Meandrante', 'Plataformal Carbonático', 'Desértico'}\n",
      ">> TIPO_DEP\n",
      "{'Barras Arenosas: dunas subaquosas 3D, Barras Conglomer�ticas: cascalheira, Rompimento de Dique Marginal (Crevass', 'Dunas E�licas', 'Evaporitos, Pel�gicos, Tapetes Alg�licos', None, 'Barras Arenosas, Plan�cie de Inunda��o, Rompimento de Dique Marginal', 'Barras Arenosas: dunas subaquosas 2D', 'Lagos, Morena (geral), Rios', 'Lagunares, Tempestitos', 'Barras Arenosas: dunas subaquosas 3D, Barras Conglomer�ticas: cascalheira, Plan�cie de Inunda��o', 'Face de Praia Inferior (Lower Shoreface)'}\n",
      ">> ASSOC_MAGM\n",
      "{None, 'Tholei�tica'}\n",
      ">> NIVEL_CRUS\n",
      "{None, 'Subcrustal'}\n",
      ">> FONTE_MAGM\n",
      "{None, 'Manto Subcontinental'}\n",
      ">> MORFOLOGIA\n",
      "{None, 'Derrames', 'Sill, Dique'}\n",
      ">> LITOTIPO1\n",
      "{'Arenito, Arenito Conglomer�tico', 'Arenito, Siltito', 'Areia, Cascalho', 'Calc�rio, Folhelho', 'Quartzo-Arenito', 'Folhelho, Arenito Fino, Arenito S�ltico-argiloso', 'Cascalho, Areia, Argila, Lamito', 'Areia, Argila', 'Basalto, Dacito', 'Arenito, Diamictito, Folhelho, Ritmito', 'Siltito', 'Diab�sio'}\n",
      ">> LITOTIPO2\n",
      "{'Calc�rio, Silexito, Arenito Fino', None, 'diorito, lampr�firo, andesito, monzonito, traquiandesito', 'Argila, Silte', 'Conglomerado, Folhelho, Siltito'}\n",
      ">> CLASSE_RX1\n",
      "{'�gnea', 'Sedimentar (ou Sedimentos)'}\n",
      ">> CLASSE_RX2\n",
      "{None, '�gnea', 'Sedimentar (ou Sedimentos)'}\n",
      ">> SUBCLA_RX1\n",
      "{'Cl�stica', 'Cl�stica, Qu�mica', 'Vulc�nica', 'Sedimentos inconsolidados', 'Plut�nica'}\n",
      ">> SUBCLA_RX2\n",
      "{None, 'Cl�stica', 'Cl�stica, Qu�mica', 'Sedimentos inconsolidados', 'Plut�nica'}\n",
      ">> REF_ID_MAX\n",
      "{None, 'Turner et al. (1994)', 'Daemon e Quadros (1970)', 'Ernesto et al. (1999)'}\n",
      ">> REF_ID_MIN\n",
      "{None, 'Turner et al. (1994)', 'Stewart et al. (1996)', 'Daemon e Quadros (1970)'}\n",
      ">> SHAPE_Leng\n",
      "{0.39545, 1.13184, 0.4653, 0.5046, 0.13304, 0.50044, 0.46985, 0.53404, 0.02664, 0.14198, 7.10573393033, 2.40933598942, 0.0649959367, 0.3804, 0.26535692483, 15.7988, 0.14796347279, 0.10628851065, 20.0297115212, 0.29842558749, 0.20480834121, 0.97763098886, 0.19440797266, 0.08397, 0.05544, 0.03695, 33.86482, 0.64395845004, 0.06834382594, 0.47553949488, 1.43688812656, 1.46284189433, 0.05203464829, 0.05559192568, 0.12702704592, 0.05571, 0.04497537426, 0.05548262535, 0.04119263034, 0.13446317123, 1.68114403808, 0.11377922622, 54.1423113724, 0.33021, 0.11265, 0.12248, 0.14956, 0.22083, 0.06136, 0.34163197101, 1.64265288085, 0.13520866522, 0.01713287538, 0.72227504469, 0.76493661481, 0.28990273359, 0.09706059065, 0.45150417153, 0.18056654758, 0.06102, 0.13859, 0.23779094734, 0.22459091242, 0.31211, 0.44042610814, 0.13859223078, 0.08222, 0.12248460693, 0.29100945621, 0.04164, 0.17593753659, 0.58077086988, 0.21171, 0.07297563364}\n",
      ">> area_apa\n",
      "{769.413110277, 1.80012382621, 259.184795414, 3.03137940152, 133.925977966, 3.80275171066, 3591.06638884, 904.631045351, 10.6325851109, 115466.242323, 908.917849786, 524.934067316, 525.012217193, 1037.42909684, 23.7961873565, 281.181937196, 26.4943431701, 282.139846571, 2973.12799862, 542.769886551, 288.196040764, 1312.5592078, 2849.08311242, 163.052048417, 2464.88623116, 37.5681476193, 41.4507491822, 298.36023614, 2475.26447435, 174.731364926, 4021.84356406, 693.520241437, 439.423961901, 311.3998691, 56.4793593711, 1082.92330212, 56.2150067291, 316.023222048, 1847.8714841, 830.732076656, 702.056684842, 25786.4756886, 705.666974739, 20802.9568729, 837.470333559, 966.317668622, 1353.7867222, 201.903217046, 203.69109791, 201.945219145, 43085.6596114, 845.954496055, 1103.95176502, 208.232881467, 2633.85447945, 598.305109854, 219.409755758, 348.291694577, 1373.72632954, 5339.48013657, 1254.19940007, 489.178282194, 491.874735507, 620.936573706, 237.523176268, 1645.93290914, 25328.7390881, 114.737978265, 627.016611051, 115.937936092, 36083.615019, 1399.15204775, 1144.44829454, 381.915138419, 126.027041425}\n",
      ">> Shape_Le_1\n",
      "{26631.4447922, 3976.64133696, 5000.07810626, 14088.4007684, 11273.5448642, 7693.36433479, 22289.8048659, 42898.0210064, 15763.5000729, 14228.7351617, 21009.2312135, 30616.9133293, 19609.8464559, 22810.5721778, 13947.8614052, 5917.64950796, 17438.2483941, 70559.1269619, 17568.0365809, 5501.57655982, 1826.45628238, 36258.9912643, 3364.29073265, 24093.054953, 7718.47699754, 38826.3694983, 860458.974474, 57774.6160936, 38319.0700562, 2864.51408796, 5934.55188153, 163503.781401, 45363.0241884, 9013.47663555, 15285.2435042, 7225.60030285, 386619.039752, 18619.1672563, 6461.32459124, 47805.8900755, 830.106560156, 15681.943751, 25410.8424296, 4807.618256, 5959.3385055, 7036.2246995, 5834.91844965, 19915.1432296, 45004.7491089, 589770.202042, 845010.352589, 15189.8340616, 80982.8877515, 7768.22614991, 23643.4211588, 12003.9734584, 7142.76776241, 13415.488913, 3304.75163678, 21609.891819, 1003.37730613, 14830.4259727, 155247.186287, 6128.24829154, 13297.7819886, 10483.7063839, 6900.63636746, 1654.74467208, 29303.896138, 20728.2216995, 16633.7302076, 1531.39037705, 14076.0156418, 8829.61184031, 362494.329692}\n",
      ">> Shape_Area\n",
      "{208029568.729, 375681.476193, 11444482.9454, 24752644.7435, 4891782.82194, 35910663.8884, 237961.873565, 38027.5171066, 3113998.691, 3819151.38419, 10374290.9684, 430856596.114, 7020566.84842, 1154662423.23, 2082328.81467, 8459544.96055, 9089178.49786, 2821398.46571, 11039517.6502, 7056669.74739, 24648862.3116, 6935202.41437, 3482916.94577, 9046310.45351, 2881960.40764, 3160232.22048, 12541994.0007, 2811819.37196, 414507.491822, 2036910.9791, 13737263.2954, 8374703.33559, 2194097.55758, 10829233.0212, 7694131.10277, 2983602.3614, 257864756.886, 360836150.19, 1630520.48417, 564793.593711, 5249340.67316, 2375231.76268, 16459329.0914, 40218435.6406, 9663176.68622, 5250122.17193, 5983051.09854, 13537867.222, 29731279.9862, 28490831.1242, 18001.2382621, 1159379.36092, 106325.851109, 6270166.11051, 6209365.73706, 13125592.078, 2019032.17046, 4918747.35507, 253287390.881, 13991520.4775, 562150.067291, 2591847.95414, 30313.7940152, 1260270.41425, 264943.431701, 26338544.7945, 53394801.3657, 5427698.86551, 1147379.78265, 1747313.64926, 8307320.76656, 18478714.841, 1339259.77966, 2019452.19145, 4394239.61901}\n",
      ">> geometry\n"
     ]
    }
   ],
   "source": [
    "for col in gdf.columns:\n",
    "    print('>> {}'.format(col))\n",
    "    try:\n",
    "        print(set(gdf[col]))\n",
    "    except:\n",
    "        pass"
   ]
  },
  {
   "cell_type": "markdown",
   "id": "d0222f8e-da18-416f-91b5-4daf7f8d6fe2",
   "metadata": {},
   "source": [
    "<br>\n",
    "\n",
    "## Hidrografia"
   ]
  },
  {
   "cell_type": "code",
   "execution_count": 22,
   "id": "27c7527e-ae2f-4c08-a07b-f6d569a643e7",
   "metadata": {},
   "outputs": [
    {
     "name": "stdout",
     "output_type": "stream",
     "text": [
      "epsg:4326\n",
      "['']\n",
      "['']\n"
     ]
    },
    {
     "data": {
      "text/html": [
       "<div>\n",
       "<style scoped>\n",
       "    .dataframe tbody tr th:only-of-type {\n",
       "        vertical-align: middle;\n",
       "    }\n",
       "\n",
       "    .dataframe tbody tr th {\n",
       "        vertical-align: top;\n",
       "    }\n",
       "\n",
       "    .dataframe thead th {\n",
       "        text-align: right;\n",
       "    }\n",
       "</style>\n",
       "<table border=\"1\" class=\"dataframe\">\n",
       "  <thead>\n",
       "    <tr style=\"text-align: right;\">\n",
       "      <th></th>\n",
       "      <th>geometry</th>\n",
       "    </tr>\n",
       "  </thead>\n",
       "  <tbody>\n",
       "    <tr>\n",
       "      <th>0</th>\n",
       "      <td>MULTILINESTRING ((-48.72709 -22.76119, -48.727...</td>\n",
       "    </tr>\n",
       "    <tr>\n",
       "      <th>1</th>\n",
       "      <td>MULTILINESTRING ((-48.72632 -22.76365, -48.726...</td>\n",
       "    </tr>\n",
       "    <tr>\n",
       "      <th>2</th>\n",
       "      <td>MULTILINESTRING ((-48.72484 -22.76484, -48.725...</td>\n",
       "    </tr>\n",
       "    <tr>\n",
       "      <th>3</th>\n",
       "      <td>MULTILINESTRING ((-48.72316 -22.75797, -48.723...</td>\n",
       "    </tr>\n",
       "    <tr>\n",
       "      <th>4</th>\n",
       "      <td>MULTILINESTRING ((-48.72448 -22.76510, -48.724...</td>\n",
       "    </tr>\n",
       "  </tbody>\n",
       "</table>\n",
       "</div>"
      ],
      "text/plain": [
       "                                            geometry\n",
       "0  MULTILINESTRING ((-48.72709 -22.76119, -48.727...\n",
       "1  MULTILINESTRING ((-48.72632 -22.76365, -48.726...\n",
       "2  MULTILINESTRING ((-48.72484 -22.76484, -48.725...\n",
       "3  MULTILINESTRING ((-48.72316 -22.75797, -48.723...\n",
       "4  MULTILINESTRING ((-48.72448 -22.76510, -48.724..."
      ]
     },
     "metadata": {},
     "output_type": "display_data"
    },
    {
     "name": "stderr",
     "output_type": "stream",
     "text": [
      "/home/michel/Documents/conda/envs/pablocarreira-py39/lib/python3.9/site-packages/geopandas/io/file.py:362: FutureWarning: pandas.Int64Index is deprecated and will be removed from pandas in a future version. Use pandas.Index with the appropriate dtype instead.\n",
      "  pd.Int64Index,\n"
     ]
    }
   ],
   "source": [
    "gpd.io.file.fiona.drvsupport.supported_drivers['KML'] = 'rw'\n",
    "gdf = gpd.read_file(\n",
    "    os.path.join(\n",
    "        '../data/input/Base Cartográfica Vetorial/Hidrografia e APP Hídrica (FBDS, 2016)',\n",
    "        'hidrografia-simples.kml',\n",
    "    ),\n",
    "    driver='KML'\n",
    ")\n",
    "\n",
    "print(gdf.crs)\n",
    "gdf = gdf.to_crs(epsg=4326)\n",
    "\n",
    "#gdf.plot()\n",
    "drop_columns(gdf)\n",
    "display(gdf.head())\n",
    "\n",
    "gdf.to_file(\n",
    "    os.path.join(output_path_gpkg, 'apa_corumbatai_hidro_simples.gpkg'),\n",
    "    layer='Hidrologia - Simples (FBDS, 2016)',\n",
    "    driver='GPKG'\n",
    ")"
   ]
  },
  {
   "cell_type": "code",
   "execution_count": 23,
   "id": "c21c9a8c-599e-4126-9dd6-f21c33331555",
   "metadata": {},
   "outputs": [
    {
     "name": "stdout",
     "output_type": "stream",
     "text": [
      "epsg:4326\n",
      "['']\n",
      "['']\n"
     ]
    },
    {
     "data": {
      "text/html": [
       "<div>\n",
       "<style scoped>\n",
       "    .dataframe tbody tr th:only-of-type {\n",
       "        vertical-align: middle;\n",
       "    }\n",
       "\n",
       "    .dataframe tbody tr th {\n",
       "        vertical-align: top;\n",
       "    }\n",
       "\n",
       "    .dataframe thead th {\n",
       "        text-align: right;\n",
       "    }\n",
       "</style>\n",
       "<table border=\"1\" class=\"dataframe\">\n",
       "  <thead>\n",
       "    <tr style=\"text-align: right;\">\n",
       "      <th></th>\n",
       "      <th>geometry</th>\n",
       "    </tr>\n",
       "  </thead>\n",
       "  <tbody>\n",
       "    <tr>\n",
       "      <th>0</th>\n",
       "      <td>MULTIPOLYGON (((-47.66189 -22.13395, -47.66190...</td>\n",
       "    </tr>\n",
       "    <tr>\n",
       "      <th>1</th>\n",
       "      <td>MULTIPOLYGON (((-48.64135 -22.48191, -48.64134...</td>\n",
       "    </tr>\n",
       "    <tr>\n",
       "      <th>2</th>\n",
       "      <td>MULTIPOLYGON (((-47.98742 -22.44973, -47.98746...</td>\n",
       "    </tr>\n",
       "    <tr>\n",
       "      <th>3</th>\n",
       "      <td>MULTIPOLYGON (((-47.74986 -22.46408, -47.74981...</td>\n",
       "    </tr>\n",
       "    <tr>\n",
       "      <th>4</th>\n",
       "      <td>MULTIPOLYGON (((-47.67374 -22.33300, -47.67366...</td>\n",
       "    </tr>\n",
       "  </tbody>\n",
       "</table>\n",
       "</div>"
      ],
      "text/plain": [
       "                                            geometry\n",
       "0  MULTIPOLYGON (((-47.66189 -22.13395, -47.66190...\n",
       "1  MULTIPOLYGON (((-48.64135 -22.48191, -48.64134...\n",
       "2  MULTIPOLYGON (((-47.98742 -22.44973, -47.98746...\n",
       "3  MULTIPOLYGON (((-47.74986 -22.46408, -47.74981...\n",
       "4  MULTIPOLYGON (((-47.67374 -22.33300, -47.67366..."
      ]
     },
     "metadata": {},
     "output_type": "display_data"
    },
    {
     "name": "stderr",
     "output_type": "stream",
     "text": [
      "/home/michel/Documents/conda/envs/pablocarreira-py39/lib/python3.9/site-packages/geopandas/io/file.py:362: FutureWarning: pandas.Int64Index is deprecated and will be removed from pandas in a future version. Use pandas.Index with the appropriate dtype instead.\n",
      "  pd.Int64Index,\n"
     ]
    }
   ],
   "source": [
    "gdf = gpd.read_file(\n",
    "    os.path.join(\n",
    "        '../data/input/Base Cartográfica Vetorial/Hidrografia e APP Hídrica (FBDS, 2016)',\n",
    "        'hidrografia-dupla.kml',        \n",
    "    ),\n",
    "    driver='KML'\n",
    ")\n",
    "\n",
    "print(gdf.crs)\n",
    "gdf = gdf.to_crs(epsg=4326)\n",
    "\n",
    "#gdf.plot()\n",
    "drop_columns(gdf)\n",
    "display(gdf.head())\n",
    "\n",
    "gdf.to_file(\n",
    "    os.path.join(output_path_gpkg, 'apa_corumbatai_hidro_dupla.gpkg'),\n",
    "    layer='Hidrologia - Dupla (FBDS, 2016)',\n",
    "    driver='GPKG'\n",
    ")"
   ]
  },
  {
   "cell_type": "code",
   "execution_count": 24,
   "id": "93bd8781-c646-4c56-9173-0da72e426dea",
   "metadata": {},
   "outputs": [
    {
     "name": "stdout",
     "output_type": "stream",
     "text": [
      "epsg:4326\n",
      "['']\n",
      "['']\n"
     ]
    },
    {
     "data": {
      "text/html": [
       "<div>\n",
       "<style scoped>\n",
       "    .dataframe tbody tr th:only-of-type {\n",
       "        vertical-align: middle;\n",
       "    }\n",
       "\n",
       "    .dataframe tbody tr th {\n",
       "        vertical-align: top;\n",
       "    }\n",
       "\n",
       "    .dataframe thead th {\n",
       "        text-align: right;\n",
       "    }\n",
       "</style>\n",
       "<table border=\"1\" class=\"dataframe\">\n",
       "  <thead>\n",
       "    <tr style=\"text-align: right;\">\n",
       "      <th></th>\n",
       "      <th>geometry</th>\n",
       "    </tr>\n",
       "  </thead>\n",
       "  <tbody>\n",
       "    <tr>\n",
       "      <th>0</th>\n",
       "      <td>POINT Z (-47.79064 -22.13912 776.54080)</td>\n",
       "    </tr>\n",
       "    <tr>\n",
       "      <th>1</th>\n",
       "      <td>POINT Z (-47.78729 -22.09994 948.05500)</td>\n",
       "    </tr>\n",
       "    <tr>\n",
       "      <th>2</th>\n",
       "      <td>POINT Z (-47.78708 -22.12605 774.84910)</td>\n",
       "    </tr>\n",
       "    <tr>\n",
       "      <th>3</th>\n",
       "      <td>POINT Z (-47.78634 -22.10874 916.29900)</td>\n",
       "    </tr>\n",
       "    <tr>\n",
       "      <th>4</th>\n",
       "      <td>POINT Z (-47.78624 -22.10560 926.54700)</td>\n",
       "    </tr>\n",
       "  </tbody>\n",
       "</table>\n",
       "</div>"
      ],
      "text/plain": [
       "                                  geometry\n",
       "0  POINT Z (-47.79064 -22.13912 776.54080)\n",
       "1  POINT Z (-47.78729 -22.09994 948.05500)\n",
       "2  POINT Z (-47.78708 -22.12605 774.84910)\n",
       "3  POINT Z (-47.78634 -22.10874 916.29900)\n",
       "4  POINT Z (-47.78624 -22.10560 926.54700)"
      ]
     },
     "metadata": {},
     "output_type": "display_data"
    },
    {
     "name": "stderr",
     "output_type": "stream",
     "text": [
      "/home/michel/Documents/conda/envs/pablocarreira-py39/lib/python3.9/site-packages/geopandas/io/file.py:362: FutureWarning: pandas.Int64Index is deprecated and will be removed from pandas in a future version. Use pandas.Index with the appropriate dtype instead.\n",
      "  pd.Int64Index,\n"
     ]
    }
   ],
   "source": [
    "gdf = gpd.read_file(\n",
    "    os.path.join(\n",
    "        '../data/input/Base Cartográfica Vetorial/Hidrografia e APP Hídrica (FBDS, 2016)',\n",
    "        'nascente.kml',        \n",
    "    ),\n",
    "    driver='KML'\n",
    ")\n",
    "print(gdf.crs)\n",
    "gdf = gdf.to_crs(epsg=4326)\n",
    "\n",
    "#gdf.plot()\n",
    "drop_columns(gdf)\n",
    "display(gdf.head())\n",
    "\n",
    "gdf.to_file(\n",
    "    os.path.join(output_path_gpkg, 'apa_corumbatai_hidro_nascente.gpkg'),\n",
    "    layer='Hidrologia - Nascente (FBDS, 2016)',\n",
    "    driver='GPKG'\n",
    ")"
   ]
  },
  {
   "cell_type": "code",
   "execution_count": 25,
   "id": "f91d6c46-9852-4a94-ac3b-46a4d7e24d2b",
   "metadata": {},
   "outputs": [
    {
     "name": "stdout",
     "output_type": "stream",
     "text": [
      "epsg:4326\n",
      "['']\n",
      "['']\n"
     ]
    },
    {
     "data": {
      "text/html": [
       "<div>\n",
       "<style scoped>\n",
       "    .dataframe tbody tr th:only-of-type {\n",
       "        vertical-align: middle;\n",
       "    }\n",
       "\n",
       "    .dataframe tbody tr th {\n",
       "        vertical-align: top;\n",
       "    }\n",
       "\n",
       "    .dataframe thead th {\n",
       "        text-align: right;\n",
       "    }\n",
       "</style>\n",
       "<table border=\"1\" class=\"dataframe\">\n",
       "  <thead>\n",
       "    <tr style=\"text-align: right;\">\n",
       "      <th></th>\n",
       "      <th>geometry</th>\n",
       "    </tr>\n",
       "  </thead>\n",
       "  <tbody>\n",
       "    <tr>\n",
       "      <th>0</th>\n",
       "      <td>MULTIPOLYGON (((-47.71338 -22.22567, -47.71343...</td>\n",
       "    </tr>\n",
       "    <tr>\n",
       "      <th>1</th>\n",
       "      <td>MULTIPOLYGON (((-47.71261 -22.22401, -47.71268...</td>\n",
       "    </tr>\n",
       "    <tr>\n",
       "      <th>2</th>\n",
       "      <td>MULTIPOLYGON (((-47.72147 -22.22198, -47.72150...</td>\n",
       "    </tr>\n",
       "    <tr>\n",
       "      <th>3</th>\n",
       "      <td>MULTIPOLYGON (((-47.71308 -22.22185, -47.71315...</td>\n",
       "    </tr>\n",
       "    <tr>\n",
       "      <th>4</th>\n",
       "      <td>MULTIPOLYGON (((-47.71800 -22.21893, -47.71810...</td>\n",
       "    </tr>\n",
       "  </tbody>\n",
       "</table>\n",
       "</div>"
      ],
      "text/plain": [
       "                                            geometry\n",
       "0  MULTIPOLYGON (((-47.71338 -22.22567, -47.71343...\n",
       "1  MULTIPOLYGON (((-47.71261 -22.22401, -47.71268...\n",
       "2  MULTIPOLYGON (((-47.72147 -22.22198, -47.72150...\n",
       "3  MULTIPOLYGON (((-47.71308 -22.22185, -47.71315...\n",
       "4  MULTIPOLYGON (((-47.71800 -22.21893, -47.71810..."
      ]
     },
     "metadata": {},
     "output_type": "display_data"
    },
    {
     "name": "stderr",
     "output_type": "stream",
     "text": [
      "/home/michel/Documents/conda/envs/pablocarreira-py39/lib/python3.9/site-packages/geopandas/io/file.py:362: FutureWarning: pandas.Int64Index is deprecated and will be removed from pandas in a future version. Use pandas.Index with the appropriate dtype instead.\n",
      "  pd.Int64Index,\n"
     ]
    },
    {
     "data": {
      "image/png": "[encoded data removed]",
      "text/plain": [
       "<Figure size 432x288 with 1 Axes>"
      ]
     },
     "metadata": {
      "needs_background": "light"
     },
     "output_type": "display_data"
    }
   ],
   "source": [
    "gdf = gpd.read_file(\n",
    "    os.path.join(\n",
    "        '../data/input/Base Cartográfica Vetorial/Hidrografia e APP Hídrica (FBDS, 2016)',\n",
    "        'represa.kml',        \n",
    "    ),\n",
    "    driver='KML'\n",
    ")\n",
    "print(gdf.crs)\n",
    "gdf = gdf.to_crs(epsg=4326)\n",
    "\n",
    "drop_columns(gdf)\n",
    "gdf.plot()\n",
    "display(gdf.head())\n",
    "\n",
    "gdf.to_file(\n",
    "    os.path.join(output_path_gpkg, 'apa_corumbatai_hidro_represa.gpkg'),\n",
    "    layer='Hidrologia - Represa (FBDS, 2016)',\n",
    "    driver='GPKG'\n",
    ")"
   ]
  },
  {
   "cell_type": "markdown",
   "id": "41b5d8e7-78dc-44ef-affa-683d4d341915",
   "metadata": {},
   "source": [
    "<br>\n",
    "\n",
    "## APP"
   ]
  },
  {
   "cell_type": "code",
   "execution_count": 26,
   "id": "9b1749e5-5da1-48fb-9067-69bcf79fc083",
   "metadata": {},
   "outputs": [
    {
     "name": "stdout",
     "output_type": "stream",
     "text": [
      "epsg:4326\n",
      "['']\n",
      "['']\n"
     ]
    },
    {
     "data": {
      "text/html": [
       "<div>\n",
       "<style scoped>\n",
       "    .dataframe tbody tr th:only-of-type {\n",
       "        vertical-align: middle;\n",
       "    }\n",
       "\n",
       "    .dataframe tbody tr th {\n",
       "        vertical-align: top;\n",
       "    }\n",
       "\n",
       "    .dataframe thead th {\n",
       "        text-align: right;\n",
       "    }\n",
       "</style>\n",
       "<table border=\"1\" class=\"dataframe\">\n",
       "  <thead>\n",
       "    <tr style=\"text-align: right;\">\n",
       "      <th></th>\n",
       "      <th>geometry</th>\n",
       "    </tr>\n",
       "  </thead>\n",
       "  <tbody>\n",
       "    <tr>\n",
       "      <th>0</th>\n",
       "      <td>MULTIPOLYGON (((-47.71284 -22.22410, -47.71276...</td>\n",
       "    </tr>\n",
       "    <tr>\n",
       "      <th>1</th>\n",
       "      <td>MULTIPOLYGON (((-47.64784 -22.19315, -47.64819...</td>\n",
       "    </tr>\n",
       "    <tr>\n",
       "      <th>2</th>\n",
       "      <td>MULTIPOLYGON (((-47.78367 -22.14731, -47.78356...</td>\n",
       "    </tr>\n",
       "    <tr>\n",
       "      <th>3</th>\n",
       "      <td>MULTIPOLYGON (((-47.71393 -22.22792, -47.71412...</td>\n",
       "    </tr>\n",
       "    <tr>\n",
       "      <th>4</th>\n",
       "      <td>MULTIPOLYGON (((-48.03188 -22.50635, -48.03207...</td>\n",
       "    </tr>\n",
       "  </tbody>\n",
       "</table>\n",
       "</div>"
      ],
      "text/plain": [
       "                                            geometry\n",
       "0  MULTIPOLYGON (((-47.71284 -22.22410, -47.71276...\n",
       "1  MULTIPOLYGON (((-47.64784 -22.19315, -47.64819...\n",
       "2  MULTIPOLYGON (((-47.78367 -22.14731, -47.78356...\n",
       "3  MULTIPOLYGON (((-47.71393 -22.22792, -47.71412...\n",
       "4  MULTIPOLYGON (((-48.03188 -22.50635, -48.03207..."
      ]
     },
     "metadata": {},
     "output_type": "display_data"
    },
    {
     "name": "stderr",
     "output_type": "stream",
     "text": [
      "/home/michel/Documents/conda/envs/pablocarreira-py39/lib/python3.9/site-packages/geopandas/io/file.py:362: FutureWarning: pandas.Int64Index is deprecated and will be removed from pandas in a future version. Use pandas.Index with the appropriate dtype instead.\n",
      "  pd.Int64Index,\n"
     ]
    },
    {
     "data": {
      "image/png": "[encoded data removed]",
      "text/plain": [
       "<Figure size 432x288 with 1 Axes>"
      ]
     },
     "metadata": {
      "needs_background": "light"
     },
     "output_type": "display_data"
    }
   ],
   "source": [
    "gdf = gpd.read_file(\n",
    "    os.path.join(\n",
    "        '../data/input/Base Cartográfica Vetorial/Hidrografia e APP Hídrica (FBDS, 2016)',\n",
    "        'app-hidrica.kml',        \n",
    "    ),\n",
    "    driver='KML'\n",
    ")\n",
    "print(gdf.crs)\n",
    "gdf = gdf.to_crs(epsg=4326)\n",
    "\n",
    "drop_columns(gdf)\n",
    "gdf.plot()\n",
    "display(gdf.head())\n",
    "\n",
    "gdf.to_file(\n",
    "    os.path.join(output_path_gpkg, 'apa_corumbatai_app.gpkg'),\n",
    "    layer='APP',\n",
    "    driver='GPKG'\n",
    ")"
   ]
  },
  {
   "cell_type": "code",
   "execution_count": 27,
   "id": "7cd9824b-f63d-4759-90ba-5e64f92b7bd9",
   "metadata": {},
   "outputs": [
    {
     "name": "stdout",
     "output_type": "stream",
     "text": [
      "epsg:4326\n",
      "['']\n",
      "['']\n"
     ]
    },
    {
     "data": {
      "text/html": [
       "<div>\n",
       "<style scoped>\n",
       "    .dataframe tbody tr th:only-of-type {\n",
       "        vertical-align: middle;\n",
       "    }\n",
       "\n",
       "    .dataframe tbody tr th {\n",
       "        vertical-align: top;\n",
       "    }\n",
       "\n",
       "    .dataframe thead th {\n",
       "        text-align: right;\n",
       "    }\n",
       "</style>\n",
       "<table border=\"1\" class=\"dataframe\">\n",
       "  <thead>\n",
       "    <tr style=\"text-align: right;\">\n",
       "      <th></th>\n",
       "      <th>geometry</th>\n",
       "    </tr>\n",
       "  </thead>\n",
       "  <tbody>\n",
       "    <tr>\n",
       "      <th>0</th>\n",
       "      <td>MULTIPOLYGON (((-47.71284 -22.22410, -47.71276...</td>\n",
       "    </tr>\n",
       "    <tr>\n",
       "      <th>1</th>\n",
       "      <td>MULTIPOLYGON (((-47.64784 -22.19315, -47.64819...</td>\n",
       "    </tr>\n",
       "    <tr>\n",
       "      <th>2</th>\n",
       "      <td>MULTIPOLYGON (((-47.78367 -22.14731, -47.78356...</td>\n",
       "    </tr>\n",
       "    <tr>\n",
       "      <th>3</th>\n",
       "      <td>MULTIPOLYGON (((-47.71393 -22.22792, -47.71412...</td>\n",
       "    </tr>\n",
       "    <tr>\n",
       "      <th>4</th>\n",
       "      <td>MULTIPOLYGON (((-48.03188 -22.50635, -48.03207...</td>\n",
       "    </tr>\n",
       "  </tbody>\n",
       "</table>\n",
       "</div>"
      ],
      "text/plain": [
       "                                            geometry\n",
       "0  MULTIPOLYGON (((-47.71284 -22.22410, -47.71276...\n",
       "1  MULTIPOLYGON (((-47.64784 -22.19315, -47.64819...\n",
       "2  MULTIPOLYGON (((-47.78367 -22.14731, -47.78356...\n",
       "3  MULTIPOLYGON (((-47.71393 -22.22792, -47.71412...\n",
       "4  MULTIPOLYGON (((-48.03188 -22.50635, -48.03207..."
      ]
     },
     "metadata": {},
     "output_type": "display_data"
    },
    {
     "name": "stderr",
     "output_type": "stream",
     "text": [
      "/home/michel/Documents/conda/envs/pablocarreira-py39/lib/python3.9/site-packages/geopandas/io/file.py:362: FutureWarning: pandas.Int64Index is deprecated and will be removed from pandas in a future version. Use pandas.Index with the appropriate dtype instead.\n",
      "  pd.Int64Index,\n"
     ]
    },
    {
     "data": {
      "image/png": "[encoded data removed]",
      "text/plain": [
       "<Figure size 432x288 with 1 Axes>"
      ]
     },
     "metadata": {
      "needs_background": "light"
     },
     "output_type": "display_data"
    }
   ],
   "source": [
    "gdf = gpd.read_file(\n",
    "    os.path.join(\n",
    "        '../data/input/Base Cartográfica Vetorial/Hidrografia e APP Hídrica (FBDS, 2016)',\n",
    "        'app-hidrica-apa.kml',        \n",
    "    ),\n",
    "    driver='KML'\n",
    ")\n",
    "print(gdf.crs)\n",
    "gdf = gdf.to_crs(epsg=4326)\n",
    "\n",
    "drop_columns(gdf)\n",
    "gdf.plot()\n",
    "display(gdf.head())\n",
    "\n",
    "gdf.to_file(\n",
    "    os.path.join(output_path_gpkg, 'apa_corumbatai_app_apa.gpkg'),\n",
    "    layer='APP_APA',\n",
    "    driver='GPKG'\n",
    ")"
   ]
  },
  {
   "cell_type": "markdown",
   "id": "e4e56744-c681-415b-9ca4-0a8121149288",
   "metadata": {},
   "source": [
    "<br>\n",
    "\n",
    "# Compress"
   ]
  },
  {
   "cell_type": "code",
   "execution_count": 28,
   "id": "2344b6ac-4a2b-4357-8963-d83caddd773b",
   "metadata": {},
   "outputs": [
    {
     "data": {
      "text/plain": [
       "['apa_corumbatai_app.gpkg',\n",
       " 'apa_corumbatai_app_apa.gpkg',\n",
       " 'apa_corumbatai_geologia.gpkg',\n",
       " 'apa_corumbatai_hidro_dupla.gpkg',\n",
       " 'apa_corumbatai_hidro_nascente.gpkg',\n",
       " 'apa_corumbatai_hidro_represa.gpkg',\n",
       " 'apa_corumbatai_hidro_simples.gpkg',\n",
       " 'apa_corumbatai_limite.gpkg',\n",
       " 'apa_corumbatai_uso_reg.gpkg',\n",
       " 'apa_corumbatai_veg_mun.gpkg',\n",
       " 'apa_corumbatai_veg_reg.gpkg',\n",
       " 'apa_corumbatai_zpa.gpkg',\n",
       " 'apa_corumbatai_zph.gpkg',\n",
       " 'apa_corumbatai_zvs.gpkg']"
      ]
     },
     "execution_count": 28,
     "metadata": {},
     "output_type": "execute_result"
    }
   ],
   "source": [
    "list_files = os.listdir(output_path_gpkg)\n",
    "list_files"
   ]
  },
  {
   "cell_type": "code",
   "execution_count": 29,
   "id": "7eb73c31-14c0-494d-b44d-06c3bfd43b0a",
   "metadata": {},
   "outputs": [],
   "source": [
    "from paths import *"
   ]
  },
  {
   "cell_type": "code",
   "execution_count": 30,
   "id": "23d215ea-ae54-4f88-b78b-a2774270bb5b",
   "metadata": {},
   "outputs": [
    {
     "name": "stdout",
     "output_type": "stream",
     "text": [
      "apa_corumbatai_app\n",
      "apa_corumbatai_app_apa\n",
      "apa_corumbatai_geologia\n",
      "apa_corumbatai_hidro_dupla\n",
      "apa_corumbatai_hidro_nascente\n",
      "apa_corumbatai_hidro_represa\n",
      "apa_corumbatai_hidro_simples\n",
      "apa_corumbatai_limite\n",
      "apa_corumbatai_uso_reg\n",
      "apa_corumbatai_veg_mun\n",
      "apa_corumbatai_veg_reg\n",
      "apa_corumbatai_zpa\n",
      "apa_corumbatai_zph\n",
      "apa_corumbatai_zvs\n"
     ]
    }
   ],
   "source": [
    "for file in list_files:\n",
    "    # File\n",
    "    filename = file.split('.', maxsplit=1)[0]\n",
    "    print(filename)\n",
    "\n",
    "    # Paths\n",
    "    zip7_filepath = os.path.join(output_path_zips, '{}.7z'.format(filename))\n",
    "    gpkg_filepath = os.path.join(output_path_gpkg, file)\n",
    "\n",
    "    # Write 7zip\n",
    "    with py7zr.SevenZipFile(zip7_filepath, 'w') as archive:\n",
    "        archive.write(gpkg_filepath, os.path.basename(gpkg_filepath))"
   ]
  },
  {
   "cell_type": "code",
   "execution_count": null,
   "id": "aea9b87a-449d-41f3-956a-4059dde8b8f8",
   "metadata": {},
   "outputs": [],
   "source": []
  }
 ],
 "metadata": {
  "kernelspec": {
   "display_name": "Python [conda env:pablocarreira-py39] *",
   "language": "python",
   "name": "conda-env-pablocarreira-py39-py"
  },
  "language_info": {
   "codemirror_mode": {
    "name": "ipython",
    "version": 3
   },
   "file_extension": ".py",
   "mimetype": "text/x-python",
   "name": "python",
   "nbconvert_exporter": "python",
   "pygments_lexer": "ipython3",
   "version": "3.9.12"
  },
  "toc-autonumbering": true
 },
 "nbformat": 4,
 "nbformat_minor": 5
}
