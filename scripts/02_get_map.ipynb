{
 "cells": [
  {
   "cell_type": "markdown",
   "metadata": {
    "pycharm": {
     "name": "#%% md\n"
    }
   },
   "source": [
    "<br>\n",
    "\n",
    "# Maps"
   ]
  },
  {
   "cell_type": "code",
   "execution_count": null,
   "metadata": {
    "jupyter": {
     "outputs_hidden": false
    },
    "pycharm": {
     "name": "#%%\n"
    }
   },
   "outputs": [],
   "source": [
    "#!pip3 install open-geodata --upgrade"
   ]
  },
  {
   "cell_type": "code",
   "execution_count": null,
   "metadata": {
    "pycharm": {
     "name": "#%%\n"
    }
   },
   "outputs": [],
   "source": [
    "import os\n",
    "import json\n",
    "import fiona\n",
    "import folium\n",
    "import pandas as pd\n",
    "import branca as bc\n",
    "import seaborn as sns\n",
    "import geopandas as gpd\n",
    "from datetime import date\n",
    "from folium import plugins"
   ]
  },
  {
   "cell_type": "code",
   "execution_count": null,
   "metadata": {
    "pycharm": {
     "name": "#%%\n"
    }
   },
   "outputs": [],
   "source": [
    "from open_geodata import geo, lyr"
   ]
  },
  {
   "cell_type": "code",
   "execution_count": null,
   "metadata": {
    "jupyter": {
     "outputs_hidden": false
    },
    "pycharm": {
     "name": "#%%\n"
    }
   },
   "outputs": [],
   "source": [
    "from paths import *"
   ]
  },
  {
   "cell_type": "code",
   "execution_count": null,
   "metadata": {
    "pycharm": {
     "name": "#%%\n"
    }
   },
   "outputs": [],
   "source": [
    "# List geodataframes\n",
    "geo.get_dataset_names()"
   ]
  },
  {
   "cell_type": "markdown",
   "metadata": {
    "pycharm": {
     "name": "#%% md\n"
    }
   },
   "source": [
    "<br>\n",
    "\n",
    "# Layers"
   ]
  },
  {
   "cell_type": "code",
   "execution_count": null,
   "metadata": {
    "pycharm": {
     "name": "#%%\n"
    }
   },
   "outputs": [],
   "source": [
    "gdf_sp = geo.load_dataset('sp_250k_wgs84')\n",
    "\n",
    "# Input\n",
    "gdf = gpd.read_file(os.path.join(output_path_gpkg, 'apa_corumbatai_limite.gpkg'))\n",
    "gdf = gdf.to_crs(epsg=4326)\n",
    "\n",
    "# \n",
    "gdf_sp_i = gpd.overlay(gdf, gdf_sp, how='intersection')\n",
    "gdf_sp_i"
   ]
  },
  {
   "cell_type": "markdown",
   "metadata": {
    "pycharm": {
     "name": "#%% md\n"
    }
   },
   "source": [
    "<br>\n",
    "\n",
    "## Municípios"
   ]
  },
  {
   "cell_type": "code",
   "execution_count": null,
   "metadata": {
    "pycharm": {
     "name": "#%%\n"
    }
   },
   "outputs": [],
   "source": [
    "def limite_mun():    \n",
    "    # Input\n",
    "    gdf_sp = geo.load_dataset('sp_250k_wgs84')\n",
    "    gdf = gpd.read_file(os.path.join(output_path_gpkg, 'apa_corumbatai_limite.gpkg'))\n",
    "    gdf = gdf.to_crs(epsg=4326)\n",
    "    gdf_sp = gpd.sjoin(\n",
    "        gdf_sp,\n",
    "        gdf,\n",
    "        how='inner',\n",
    "        predicate='intersects',\n",
    "    )\n",
    "\n",
    "    # Layer\n",
    "    return folium.features.GeoJson(\n",
    "        gdf_sp,\n",
    "        name='Municípios',\n",
    "        style_function=lambda x: {\n",
    "            'fillColor': '#FFD700',\n",
    "            'color': '#FFD700',\n",
    "            'weight': 1,\n",
    "            'fillOpacity': 0.0\n",
    "        },\n",
    "        tooltip=folium.features.GeoJsonTooltip(\n",
    "            fields=['municipio_nome', ],\n",
    "            aliases=['Município', ],\n",
    "            labels=True,\n",
    "            sticky=True,\n",
    "            opacity=0.9,\n",
    "            direction='auto',\n",
    "        ),        \n",
    "        highlight_function=lambda x: {\n",
    "            'weight': 3\n",
    "        },\n",
    "        embed=False,\n",
    "        zoom_on_click=False,\n",
    "        control=True,\n",
    "        show=True,\n",
    "    )"
   ]
  }
 ],
 "metadata": {
  "interpreter": {
   "hash": "2bdda54bf0f28693adab761d90c570fb0a7faa3609b365313c0b5d078440c060"
  },
  "kernelspec": {
   "display_name": "Python 3.9.12 ('pablocarreira-py39')",
   "language": "python",
   "name": "python3"
  },
  "language_info": {
   "codemirror_mode": {
    "name": "ipython",
    "version": 3
   },
   "file_extension": ".py",
   "mimetype": "text/x-python",
   "name": "python",
   "nbconvert_exporter": "python",
   "pygments_lexer": "ipython3",
   "version": "3.9.12"
  },
  "toc-autonumbering": true
 },
 "nbformat": 4,
 "nbformat_minor": 4
}
