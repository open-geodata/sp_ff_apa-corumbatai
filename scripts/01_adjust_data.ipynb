{
 "cells": [
  {
   "cell_type": "markdown",
   "id": "13f26575-e575-4fa0-a2c2-a425be195709",
   "metadata": {
    "pycharm": {
     "name": "#%% md\n"
    }
   },
   "source": [
    "<br>\n",
    "\n",
    "# Introdução"
   ]
  },
  {
   "cell_type": "code",
   "execution_count": null,
   "id": "823a6306-14b4-4e2e-8f6b-74d9b654f14a",
   "metadata": {
    "pycharm": {
     "name": "#%%\n"
    }
   },
   "outputs": [],
   "source": [
    "import os\n",
    "from zipfile import ZipFile\n",
    "\n",
    "import geopandas as gpd\n",
    "import pandas as pd\n",
    "import py7zr\n",
    "from paths import *"
   ]
  },
  {
   "cell_type": "code",
   "execution_count": null,
   "id": "af4dd3e3-1f15-4444-a60d-8a0d5e225979",
   "metadata": {
    "pycharm": {
     "name": "#%%\n"
    }
   },
   "outputs": [],
   "source": [
    "gpd.io.file.fiona.drvsupport.supported_drivers['KML'] = 'rw'"
   ]
  },
  {
   "cell_type": "code",
   "execution_count": null,
   "id": "0ceca93c-f909-43ca-854f-0ee4173ae2b0",
   "metadata": {
    "pycharm": {
     "name": "#%%\n"
    }
   },
   "outputs": [],
   "source": [
    "folder_prefixo = 'Base Cartográfica Vetorial'\n",
    "#file = [x for x in os.listdir(bruto_path) if x.startswith(folder_prefixo)][0]\n",
    "zipfile_path = list(input_path_bruto.rglob(f'{folder_prefixo}*'))[0]\n",
    "zipfile_path"
   ]
  },
  {
   "cell_type": "code",
   "execution_count": null,
   "id": "faea14cf-be1b-4444-a41f-990a2f6d19b1",
   "metadata": {
    "pycharm": {
     "name": "#%%\n"
    }
   },
   "outputs": [],
   "source": [
    "with ZipFile(zipfile_path, 'r') as zip_obj:\n",
    "    # Extract all the contents of zip file in different directory\n",
    "    zip_obj.extractall(input_path_extract)"
   ]
  },
  {
   "cell_type": "code",
   "execution_count": null,
   "id": "092c76af",
   "metadata": {},
   "outputs": [],
   "source": [
    "base_path = input_path_extract / folder_prefixo\n",
    "print(type(base_path))\n",
    "print(base_path)"
   ]
  },
  {
   "cell_type": "code",
   "execution_count": null,
   "id": "81201639-96a4-4957-87be-dc44ea4057a9",
   "metadata": {
    "pycharm": {
     "name": "#%%\n"
    }
   },
   "outputs": [],
   "source": [
    "for root, dirs, files in os.walk(base_path, topdown = False):\n",
    "    print(root)\n",
    "    for name in files:\n",
    "        print(f'> {os.path.join(name)}')\n",
    "        \n",
    "    for name in dirs:\n",
    "        print(os.path.join(name))"
   ]
  },
  {
   "cell_type": "markdown",
   "id": "62f0f979-8470-429f-863d-ee306c271ffc",
   "metadata": {
    "pycharm": {
     "name": "#%% md\n"
    }
   },
   "source": [
    "<br>\n",
    "\n",
    "# APA Corumbataí"
   ]
  },
  {
   "cell_type": "code",
   "execution_count": null,
   "id": "fe0fcd67-a2a9-450d-a0d3-79c5f9527544",
   "metadata": {
    "pycharm": {
     "name": "#%%\n"
    }
   },
   "outputs": [],
   "source": [
    "def drop_columns(gdf):\n",
    "    list_cols = gdf.columns\n",
    "    for col in list_cols:\n",
    "        if col != 'geometry':\n",
    "            content_col = list(set(gdf[col]))\n",
    "            if len(content_col)==1:\n",
    "                print(content_col)\n",
    "                gdf.drop([col], axis=1, inplace=True)"
   ]
  },
  {
   "cell_type": "markdown",
   "id": "9d7a7355-3ed0-4d7a-88ab-10c0a029ab76",
   "metadata": {
    "pycharm": {
     "name": "#%% md\n"
    }
   },
   "source": [
    "<br>\n",
    "\n",
    "## Limites"
   ]
  },
  {
   "cell_type": "code",
   "execution_count": null,
   "id": "31d374b9-d49a-4614-b62b-8ce7d6714af6",
   "metadata": {
    "pycharm": {
     "name": "#%%\n"
    }
   },
   "outputs": [],
   "source": [
    "gdf = gpd.read_file(\n",
    "    base_path / \n",
    "    'Limites' / \n",
    "    'Bases vetoriais limites APA Corumbataí' /\n",
    "    'Shapefile - Sirgas 2000'\n",
    ")\n",
    "\n",
    "print(gdf.crs)\n",
    "gdf = gdf.to_crs(epsg=4326)\n",
    "\n",
    "#gdf.plot()\n",
    "drop_columns(gdf)\n",
    "display(gdf.head())\n",
    "\n",
    "gdf.to_file(\n",
    "    output_path_gpkg / 'apa_corumbatai_limite.gpkg',\n",
    "    layer='Limite',\n",
    "    driver='GPKG'\n",
    ")"
   ]
  },
  {
   "cell_type": "markdown",
   "id": "5230ffbb-93b7-4f84-8eca-6b96a265f520",
   "metadata": {
    "pycharm": {
     "name": "#%% md\n"
    }
   },
   "source": [
    "<br>\n",
    "\n",
    "## Zona de Proteção Aquífera (ZPA)"
   ]
  },
  {
   "cell_type": "code",
   "execution_count": null,
   "id": "9b2e067a-8be2-43f7-b2dc-a44d345baf87",
   "metadata": {
    "pycharm": {
     "name": "#%%\n"
    }
   },
   "outputs": [],
   "source": [
    "gdf = gpd.read_file(\n",
    "    base_path /\n",
    "    'Zona de Proteção Aquífera (ZPA)'\n",
    "    #'Bases vetoriais limites APA Corumbataí',\n",
    "    #'Shapefile - Sirgas 2000',\n",
    ")\n",
    "\n",
    "print(gdf.crs)\n",
    "gdf = gdf.to_crs(epsg=4326)\n",
    "\n",
    "#gdf.plot()\n",
    "drop_columns(gdf)\n",
    "display(gdf.head())\n",
    "\n",
    "gdf.to_file(\n",
    "    output_path_gpkg / 'apa_corumbatai_zpa.gpkg',\n",
    "    layer='Zona de Proteção Aquífera (ZPA)',\n",
    "    driver='GPKG'\n",
    ")"
   ]
  },
  {
   "cell_type": "markdown",
   "id": "a492f8a7-ab02-4004-9401-f46a7484f2d0",
   "metadata": {
    "pycharm": {
     "name": "#%% md\n"
    }
   },
   "source": [
    "<br>\n",
    "\n",
    "## Zona de Proteção Hídrica (ZPH)"
   ]
  },
  {
   "cell_type": "code",
   "execution_count": null,
   "id": "9e1aa61f-8e23-4608-9d92-d19ea2f540ab",
   "metadata": {
    "pycharm": {
     "name": "#%%\n"
    }
   },
   "outputs": [],
   "source": [
    "gdf = gpd.read_file(\n",
    "    base_path /\n",
    "    'Zona de Proteção Hídrica (ZPH)'\n",
    "    #'Bases vetoriais limites APA Corumbataí',\n",
    "    #'Shapefile - Sirgas 2000',\n",
    ")\n",
    "\n",
    "print(gdf.crs)\n",
    "gdf = gdf.to_crs(epsg=4326)\n",
    "\n",
    "#gdf.plot()\n",
    "drop_columns(gdf)\n",
    "display(gdf.head())\n",
    "\n",
    "gdf.to_file(\n",
    "    output_path_gpkg / 'apa_corumbatai_zph.gpkg',\n",
    "    layer='Zona de Proteção Hídrica (ZPH)',\n",
    "    driver='GPKG'\n",
    ")"
   ]
  },
  {
   "cell_type": "markdown",
   "id": "830104c5-44a6-41e9-9bda-24c4194f200f",
   "metadata": {
    "pycharm": {
     "name": "#%% md\n"
    }
   },
   "source": [
    "<br>\n",
    "\n",
    "## Zona de Vida Silvestre (ZVS)"
   ]
  },
  {
   "cell_type": "code",
   "execution_count": null,
   "id": "6a6df275-d9ff-4282-ac80-2cd36e6d22bf",
   "metadata": {
    "pycharm": {
     "name": "#%%\n"
    }
   },
   "outputs": [],
   "source": [
    "gdf = gpd.read_file(\n",
    "    base_path /\n",
    "    'Zona de Vida Silvestre (ZVS)' \n",
    "    #'Bases vetoriais limites APA Corumbataí',\n",
    "    #'Shapefile - Sirgas 2000',    \n",
    ")\n",
    "\n",
    "gdf['LEG_MAPA'] = gdf['LEG_MAPA'].str.replace('ma��', 'maçã')\n",
    "gdf['LEG_MAPA'] = gdf['LEG_MAPA'].str.replace('Arb�', 'Arbó')\n",
    "gdf['LEG_MAPA'] = gdf['LEG_MAPA'].str.replace('V�r', 'Vár')\n",
    "gdf['LEG_MAPA'] = gdf['LEG_MAPA'].str.replace('gi�o', 'gião')\n",
    "\n",
    "print(gdf.crs)\n",
    "gdf = gdf.to_crs(epsg=4326)\n",
    "\n",
    "#gdf.plot()\n",
    "drop_columns(gdf)\n",
    "display(gdf.head())\n",
    "\n",
    "gdf.to_file(\n",
    "    output_path_gpkg / 'apa_corumbatai_zvs.gpkg',\n",
    "    layer='Zona de Vida Silvestre (ZVS)',\n",
    "    driver='GPKG'\n",
    ")"
   ]
  },
  {
   "cell_type": "markdown",
   "id": "a6f1f754-b62b-4c89-a0e9-645f061875ba",
   "metadata": {
    "pycharm": {
     "name": "#%% md\n"
    }
   },
   "source": [
    "<br>\n",
    "\n",
    "## Vegetação Natural: mun"
   ]
  },
  {
   "cell_type": "code",
   "execution_count": null,
   "id": "d63e4479-ea4c-471d-bdff-80c5b23bcad6",
   "metadata": {
    "pycharm": {
     "name": "#%%\n"
    }
   },
   "outputs": [],
   "source": [
    "gdf = gpd.read_file(\n",
    "    base_path /\n",
    "    'Vegetação natural 2019 (Mapbiomas2020, coleção 5)' /\n",
    "    'apacp_munic+buf2km_veg-nat_mapbiomas2019-colecao5_shapefile_wgs84.zip'\n",
    "    #'Shapefile - Sirgas 2000',\n",
    ")\n",
    "\n",
    "print(gdf.crs)\n",
    "gdf = gdf.to_crs(epsg=4326)\n",
    "\n",
    "#gdf.plot()\n",
    "drop_columns(gdf)\n",
    "display(gdf.head())\n",
    "\n",
    "gdf.to_file(\n",
    "    output_path_gpkg / 'apa_corumbatai_veg_mun.gpkg',\n",
    "    layer='Vegetação Natural - Município (MapBiomas - Coleção 5)',\n",
    "    driver='GPKG'\n",
    ")"
   ]
  },
  {
   "cell_type": "markdown",
   "id": "f75faf0d-8141-469f-b6f6-8b3e7f315a6e",
   "metadata": {
    "pycharm": {
     "name": "#%% md\n"
    }
   },
   "source": [
    "<br>\n",
    "\n",
    "## Vegetação Natural: reg"
   ]
  },
  {
   "cell_type": "code",
   "execution_count": null,
   "id": "2cbdfd93-7af6-45eb-ae86-0224207770b1",
   "metadata": {
    "pycharm": {
     "name": "#%%\n"
    }
   },
   "outputs": [],
   "source": [
    "gdf = gpd.read_file(\n",
    "    base_path /\n",
    "    'Vegetação natural 2019 (Mapbiomas2020, coleção 5)' /\n",
    "    'apacp_regional_veg-nat_mapbiomas2019-colecao5_shapefile_wgs84.zip'\n",
    "    #'Shapefile - Sirgas 2000',\n",
    ")\n",
    "\n",
    "print(gdf.crs)\n",
    "gdf = gdf.to_crs(epsg=4326)\n",
    "\n",
    "#gdf.plot()\n",
    "drop_columns(gdf)\n",
    "display(gdf.head())\n",
    "\n",
    "gdf.to_file(\n",
    "    output_path_gpkg / 'apa_corumbatai_veg_reg.gpkg',\n",
    "    layer='Vegetação Natural - Regional (MapBiomas - Coleção 5)',\n",
    "    driver='GPKG'\n",
    ")"
   ]
  },
  {
   "cell_type": "markdown",
   "id": "1dbf435d-49cb-4d68-8938-97edfcfc9624",
   "metadata": {
    "pycharm": {
     "name": "#%% md\n"
    }
   },
   "source": [
    "<br>\n",
    "\n",
    "## Uso Solo: mun"
   ]
  },
  {
   "cell_type": "code",
   "execution_count": null,
   "id": "38838235-252c-46ce-a42f-78412fbcbd81",
   "metadata": {
    "pycharm": {
     "name": "#%%\n"
    }
   },
   "outputs": [],
   "source": [
    "gdf = gpd.read_file(\n",
    "    base_path /\n",
    "    'Uso do Solo 2019 (Mapbiomas2020, coleção 5)' /\n",
    "    'apacp_munic+buf2km_uso-solo-mapbiomas2019-colecao5_wgs84.zip'\n",
    "    #'Shapefile - Sirgas 2000',\n",
    ")\n",
    "\n",
    "print(gdf.crs)\n",
    "gdf = gdf.to_crs(epsg=4326)\n",
    "\n",
    "#gdf.plot()\n",
    "drop_columns(gdf)\n",
    "display(gdf.head())\n",
    "\n",
    "gdf.plot()\n",
    "gdf.to_file(\n",
    "    output_path_gpkg / 'apa_corumbatai_veg_mun.gpkg',\n",
    "    layer='Uso Solo - Município (MapBiomas - Coleção 5)',\n",
    "    driver='GPKG'\n",
    ")"
   ]
  },
  {
   "cell_type": "markdown",
   "id": "867d4161-baee-44ae-91a1-e40f61ec9a1c",
   "metadata": {
    "pycharm": {
     "name": "#%% md\n"
    }
   },
   "source": [
    "<br>\n",
    "\n",
    "## Uso Solo: reg"
   ]
  },
  {
   "cell_type": "code",
   "execution_count": null,
   "id": "5b790706-8ac3-4f65-834d-f5f55f0c3e2a",
   "metadata": {
    "pycharm": {
     "name": "#%%\n"
    }
   },
   "outputs": [],
   "source": [
    "gdf = gpd.read_file(\n",
    "    base_path /\n",
    "    'Uso do Solo 2019 (Mapbiomas2020, coleção 5)' /\n",
    "    'apacp_regional_uso-solo_mapbiomas2019-colecao5_wgs84.zip'\n",
    "    #'Shapefile - Sirgas 2000',\n",
    ")\n",
    "\n",
    "print(gdf.crs)\n",
    "gdf = gdf.to_crs(epsg=4326)\n",
    "\n",
    "#gdf.plot()\n",
    "drop_columns(gdf)\n",
    "display(gdf.head())\n",
    "\n",
    "gdf.to_file(\n",
    "    output_path_gpkg / 'apa_corumbatai_uso_reg.gpkg',\n",
    "    layer='Uso Solo - Regional (MapBiomas - Coleção 5)',\n",
    "    driver='GPKG'\n",
    ")"
   ]
  },
  {
   "cell_type": "markdown",
   "id": "78049504-eec5-424c-8165-0f8d091702c1",
   "metadata": {
    "pycharm": {
     "name": "#%% md\n"
    }
   },
   "source": [
    "<br>\n",
    "\n",
    "## Pedologia, errado!"
   ]
  },
  {
   "cell_type": "code",
   "execution_count": null,
   "id": "675d475a-76b3-4bf0-9702-8b81376b3616",
   "metadata": {
    "pycharm": {
     "name": "#%%\n"
    }
   },
   "outputs": [],
   "source": [
    "# gdf = gpd.read_file(\n",
    "#     os.path.join(\n",
    "            #base_path,\n",
    "#         'Pedologia (Instituto Florestal, 2017)',\n",
    "#         'apacp_pedologico_rossi2017_s2000.zip',\n",
    "#         #'Shapefile - Sirgas 2000',\n",
    "#     )\n",
    "# )\n",
    "# gdf = gdf.set_crs(22523)\n",
    "# print(gdf.crs)\n",
    "# gdf = gdf.to_crs(epsg=4326)\n",
    "\n",
    "# #gdf.plot()\n",
    "# drop_columns(gdf)\n",
    "# display(gdf.head())\n",
    "\n",
    "# gdf.to_file(\n",
    "#     os.path.join(output_path_gpkg, 'apa_corumbatai_pedologia.gpkg'),\n",
    "#     layer='Pedologia (Rossi, 2017)',\n",
    "#     driver='GPKG'\n",
    "# )"
   ]
  },
  {
   "cell_type": "markdown",
   "id": "81f72b50-068c-4557-8f0e-ccfff55956da",
   "metadata": {
    "pycharm": {
     "name": "#%% md\n"
    }
   },
   "source": [
    "<br>\n",
    "\n",
    "## Geologia"
   ]
  },
  {
   "cell_type": "code",
   "execution_count": null,
   "id": "9f812984-cc75-484c-b105-a1dc0e2a0446",
   "metadata": {
    "pycharm": {
     "name": "#%%\n"
    }
   },
   "outputs": [],
   "source": [
    "gdf = gpd.read_file(\n",
    "    base_path /\n",
    "    'Geologia (CPRM, 2006)' /\n",
    "    'apacp-geologico_shp.zip'\n",
    "    #'Shapefile - Sirgas 2000'\n",
    ")\n",
    "\n",
    "gdf['NOME_UNIDA'] = gdf['NOME_UNIDA'].str.replace('Itarar�', 'Itararé')\n",
    "gdf['NOME_UNIDA'] = gdf['NOME_UNIDA'].str.replace('b�sicas', 'básicas')\n",
    "gdf['NOME_UNIDA'] = gdf['NOME_UNIDA'].str.replace('Piramb�ia', 'Pirambóia')\n",
    "gdf['NOME_UNIDA'] = gdf['NOME_UNIDA'].str.replace('Dep�sitos', 'Depósitos')\n",
    "gdf['NOME_UNIDA'] = gdf['NOME_UNIDA'].str.replace('col�vio-eluvionares', 'colúvio-aluvionares')\n",
    "gdf['NOME_UNIDA'] = gdf['NOME_UNIDA'].str.replace('Corumbata�', 'Corumbataí')\n",
    "gdf['NOME_UNIDA'] = gdf['NOME_UNIDA'].str.replace('Tatu�', 'Tatuí')\n",
    "\n",
    "gdf['HIERARQUIA'] = gdf['HIERARQUIA'].str.replace('Forma��o', 'Formação')\n",
    "gdf['ERA_MAXIMA'] = gdf['ERA_MAXIMA'].str.replace('z�ico', 'zóico')\n",
    "\n",
    "gdf['PERIOD_MAX'] = gdf['PERIOD_MAX'].str.replace('Jur�', 'Jurá')\n",
    "gdf['PERIOD_MAX'] = gdf['PERIOD_MAX'].str.replace('arbon�fer', 'arbonífer')\n",
    "gdf['PERIOD_MAX'] = gdf['PERIOD_MAX'].str.replace('Cret�ceo', 'Cretáceo')\n",
    "\n",
    "gdf['MET_ID_MAX'] = gdf['MET_ID_MAX'].str.replace('Isot�pico Radiog�nico', 'Isotópico Radiogênico')\n",
    "gdf['MET_ID_MAX'] = gdf['MET_ID_MAX'].str.replace('Estratigr�fico', 'Estratigráfico')\n",
    "\n",
    "gdf['MET_DAT_MA'] = gdf['MET_DAT_MA'].str.replace('Rela��es', 'Relações')\n",
    "gdf['MET_DAT_MA'] = gdf['MET_DAT_MA'].str.replace('Palinol�gico', 'Palinológico')\n",
    "\n",
    "gdf['ERA_MINIMA'] = gdf['ERA_MINIMA'].str.replace('z�ico', 'zóico')\n",
    "\n",
    "gdf['PERIODO_MI'] = gdf['PERIODO_MI'].str.replace('Tri�ssico', 'Triássico')\n",
    "gdf['PERIODO_MI'] = gdf['PERIODO_MI'].str.replace('Cret�ceo', 'Cretáceo')\n",
    "\n",
    "gdf['MET_DAT_MI'] = gdf['MET_DAT_MI'].str.replace('Rela��es', 'Relações')\n",
    "gdf['MET_DAT_MI'] = gdf['MET_DAT_MI'].str.replace('Palinol�gico', 'Palinológico')\n",
    "\n",
    "gdf['MET_ID_MIN'] = gdf['MET_ID_MIN'].str.replace('Paleontol�gico', 'Paleontológico')\n",
    "gdf['MET_ID_MIN'] = gdf['MET_ID_MIN'].str.replace('Isot�pico', 'Isotópico')\n",
    "gdf['MET_ID_MIN'] = gdf['MET_ID_MIN'].str.replace('Radiog�nico', 'Radiogênico')\n",
    "gdf['MET_ID_MIN'] = gdf['MET_ID_MIN'].str.replace('Estratigr�fico', 'Estratigráfico')\n",
    "\n",
    "gdf['SISTSED'] = gdf['SISTSED'].str.replace('Carbon�tico', 'Carbonático')\n",
    "gdf['SISTSED'] = gdf['SISTSED'].str.replace('Entrela�ado', 'Entrelavado')\n",
    "gdf['SISTSED'] = gdf['SISTSED'].str.replace('Carbon�tico', 'Carbonático')\n",
    "gdf['SISTSED'] = gdf['SISTSED'].str.replace('Des�rtico', 'Desértico')\n",
    "gdf['SISTSED'] = gdf['SISTSED'].str.replace('Carbon�tica', 'Carbonática')\n",
    "# Tem mais #TODO\n",
    "\n",
    "print(gdf.crs)\n",
    "gdf = gdf.to_crs(epsg=4326)\n",
    "\n",
    "#gdf.plot()\n",
    "drop_columns(gdf)\n",
    "display(gdf.head())\n",
    "\n",
    "gdf.to_file(\n",
    "    output_path_gpkg / 'apa_corumbatai_geologia.gpkg',\n",
    "    layer='Geologia (CPRM, 2006)',\n",
    "    driver='GPKG'\n",
    ")"
   ]
  },
  {
   "cell_type": "code",
   "execution_count": null,
   "id": "88fe0c49-81a3-415b-af8d-34430b83c39f",
   "metadata": {
    "pycharm": {
     "name": "#%%\n"
    }
   },
   "outputs": [],
   "source": [
    "for col in gdf.columns:\n",
    "    print(f'>> {format(col)}')\n",
    "    try:\n",
    "        print(set(gdf[col]))\n",
    "    except:\n",
    "        pass"
   ]
  },
  {
   "cell_type": "markdown",
   "id": "d0222f8e-da18-416f-91b5-4daf7f8d6fe2",
   "metadata": {
    "pycharm": {
     "name": "#%% md\n"
    }
   },
   "source": [
    "<br>\n",
    "\n",
    "## Hidrografia"
   ]
  },
  {
   "cell_type": "code",
   "execution_count": null,
   "id": "27c7527e-ae2f-4c08-a07b-f6d569a643e7",
   "metadata": {
    "pycharm": {
     "name": "#%%\n"
    }
   },
   "outputs": [],
   "source": [
    "gpd.io.file.fiona.drvsupport.supported_drivers['KML'] = 'rw'\n",
    "gdf = gpd.read_file(\n",
    "    base_path /\n",
    "    'Hidrografia e APP Hídrica (FBDS, 2016)' /\n",
    "    'hidrografia-simples.kml',\n",
    "    driver='KML'\n",
    ")\n",
    "\n",
    "print(gdf.crs)\n",
    "gdf = gdf.to_crs(epsg=4326)\n",
    "\n",
    "#gdf.plot()\n",
    "drop_columns(gdf)\n",
    "display(gdf.head())\n",
    "\n",
    "gdf.to_file(\n",
    "    output_path_gpkg / 'apa_corumbatai_hidro_simples.gpkg',\n",
    "    layer='Hidrologia - Simples (FBDS, 2016)',\n",
    "    driver='GPKG'\n",
    ")"
   ]
  },
  {
   "cell_type": "code",
   "execution_count": null,
   "id": "c21c9a8c-599e-4126-9dd6-f21c33331555",
   "metadata": {
    "pycharm": {
     "name": "#%%\n"
    }
   },
   "outputs": [],
   "source": [
    "gdf = gpd.read_file(\n",
    "    base_path /\n",
    "    'Hidrografia e APP Hídrica (FBDS, 2016)' /\n",
    "    'hidrografia-dupla.kml',\n",
    "    driver='KML'\n",
    ")\n",
    "\n",
    "print(gdf.crs)\n",
    "gdf = gdf.to_crs(epsg=4326)\n",
    "\n",
    "#gdf.plot()\n",
    "drop_columns(gdf)\n",
    "display(gdf.head())\n",
    "\n",
    "gdf.to_file(\n",
    "    output_path_gpkg / 'apa_corumbatai_hidro_dupla.gpkg',\n",
    "    layer='Hidrologia - Dupla (FBDS, 2016)',\n",
    "    driver='GPKG'\n",
    ")"
   ]
  },
  {
   "cell_type": "code",
   "execution_count": null,
   "id": "93bd8781-c646-4c56-9173-0da72e426dea",
   "metadata": {
    "pycharm": {
     "name": "#%%\n"
    }
   },
   "outputs": [],
   "source": [
    "gdf = gpd.read_file(\n",
    "    base_path /\n",
    "    'Hidrografia e APP Hídrica (FBDS, 2016)' /\n",
    "    'nascente.kml',\n",
    "    driver='KML'\n",
    ")\n",
    "\n",
    "print(gdf.crs)\n",
    "gdf = gdf.to_crs(epsg=4326)\n",
    "\n",
    "#gdf.plot()\n",
    "drop_columns(gdf)\n",
    "display(gdf.head())\n",
    "\n",
    "gdf.to_file(\n",
    "    output_path_gpkg / 'apa_corumbatai_hidro_nascente.gpkg',\n",
    "    layer='Hidrologia - Nascente (FBDS, 2016)',\n",
    "    driver='GPKG'\n",
    ")"
   ]
  },
  {
   "cell_type": "code",
   "execution_count": null,
   "id": "f91d6c46-9852-4a94-ac3b-46a4d7e24d2b",
   "metadata": {
    "pycharm": {
     "name": "#%%\n"
    }
   },
   "outputs": [],
   "source": [
    "gdf = gpd.read_file(\n",
    "    base_path /\n",
    "    'Hidrografia e APP Hídrica (FBDS, 2016)' /\n",
    "    'represa.kml',\n",
    "    driver='KML'\n",
    ")\n",
    "\n",
    "print(gdf.crs)\n",
    "gdf = gdf.to_crs(epsg=4326)\n",
    "\n",
    "drop_columns(gdf)\n",
    "gdf.plot()\n",
    "display(gdf.head())\n",
    "\n",
    "gdf.to_file(\n",
    "    output_path_gpkg / 'apa_corumbatai_hidro_represa.gpkg',\n",
    "    layer='Hidrologia - Represa (FBDS, 2016)',\n",
    "    driver='GPKG'\n",
    ")"
   ]
  },
  {
   "cell_type": "markdown",
   "id": "41b5d8e7-78dc-44ef-affa-683d4d341915",
   "metadata": {
    "pycharm": {
     "name": "#%% md\n"
    }
   },
   "source": [
    "<br>\n",
    "\n",
    "## APP"
   ]
  },
  {
   "cell_type": "code",
   "execution_count": null,
   "id": "9b1749e5-5da1-48fb-9067-69bcf79fc083",
   "metadata": {
    "pycharm": {
     "name": "#%%\n"
    }
   },
   "outputs": [],
   "source": [
    "gdf = gpd.read_file(\n",
    "    base_path /\n",
    "    'Hidrografia e APP Hídrica (FBDS, 2016)' /\n",
    "    'app-hidrica.kml',\n",
    "    driver='KML'\n",
    ")\n",
    "\n",
    "print(gdf.crs)\n",
    "gdf = gdf.to_crs(epsg=4326)\n",
    "\n",
    "drop_columns(gdf)\n",
    "gdf.plot()\n",
    "display(gdf.head())\n",
    "\n",
    "gdf.to_file(\n",
    "    output_path_gpkg / 'apa_corumbatai_app.gpkg',\n",
    "    layer='APP',\n",
    "    driver='GPKG'\n",
    ")"
   ]
  },
  {
   "cell_type": "code",
   "execution_count": null,
   "id": "7cd9824b-f63d-4759-90ba-5e64f92b7bd9",
   "metadata": {
    "pycharm": {
     "name": "#%%\n"
    }
   },
   "outputs": [],
   "source": [
    "gdf = gpd.read_file(\n",
    "    base_path /\n",
    "    'Hidrografia e APP Hídrica (FBDS, 2016)' /\n",
    "    'app-hidrica-apa.kml',        \n",
    "    driver='KML'\n",
    ")\n",
    "\n",
    "print(gdf.crs)\n",
    "gdf = gdf.to_crs(epsg=4326)\n",
    "\n",
    "drop_columns(gdf)\n",
    "gdf.plot()\n",
    "display(gdf.head())\n",
    "\n",
    "gdf.to_file(\n",
    "    os.path.join(output_path_gpkg, 'apa_corumbatai_app_apa.gpkg'),\n",
    "    layer='APP_APA',\n",
    "    driver='GPKG'\n",
    ")"
   ]
  },
  {
   "cell_type": "markdown",
   "id": "e4e56744-c681-415b-9ca4-0a8121149288",
   "metadata": {
    "pycharm": {
     "name": "#%% md\n"
    }
   },
   "source": [
    "<br>\n",
    "\n",
    "# Compress"
   ]
  },
  {
   "cell_type": "code",
   "execution_count": null,
   "id": "2344b6ac-4a2b-4357-8963-d83caddd773b",
   "metadata": {
    "pycharm": {
     "name": "#%%\n"
    }
   },
   "outputs": [],
   "source": [
    "list_files = list(output_path_gpkg.rglob('*.gpkg'))\n",
    "list_files"
   ]
  },
  {
   "cell_type": "code",
   "execution_count": null,
   "id": "23d215ea-ae54-4f88-b78b-a2774270bb5b",
   "metadata": {
    "pycharm": {
     "name": "#%%\n"
    }
   },
   "outputs": [],
   "source": [
    "for file in list_files:\n",
    "    # File\n",
    "    filename = file.stem\n",
    "    print(filename)\n",
    "\n",
    "    # Paths    \n",
    "    gpkg_filepath = output_path_gpkg / file\n",
    "    zip7_filepath = output_path_geo / f'{filename}.7z'\n",
    "\n",
    "    # # Write 7zip\n",
    "    with py7zr.SevenZipFile(zip7_filepath, 'w') as archive:\n",
    "        archive.write(file, file.name)\n",
    "\n",
    "print('Fim!')"
   ]
  },
  {
   "cell_type": "code",
   "execution_count": null,
   "id": "a0580e50",
   "metadata": {},
   "outputs": [],
   "source": []
  }
 ],
 "metadata": {
  "kernelspec": {
   "display_name": "Python 3.10.6 ('pablocarreira-lastest')",
   "language": "python",
   "name": "python3"
  },
  "language_info": {
   "codemirror_mode": {
    "name": "ipython",
    "version": 3
   },
   "file_extension": ".py",
   "mimetype": "text/x-python",
   "name": "python",
   "nbconvert_exporter": "python",
   "pygments_lexer": "ipython3",
   "version": "3.10.6"
  },
  "toc-autonumbering": true,
  "vscode": {
   "interpreter": {
    "hash": "4fe01b1e548a48625e93ad3ec9d7217eaa82c8c5a1273b2b8580787b5d806f08"
   }
  }
 },
 "nbformat": 4,
 "nbformat_minor": 5
}
